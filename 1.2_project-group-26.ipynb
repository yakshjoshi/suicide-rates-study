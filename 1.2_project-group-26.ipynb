{
 "cells": [
  {
   "cell_type": "markdown",
   "id": "2e73f468-07c9-4b6f-b481-a042d7cc56e2",
   "metadata": {},
   "source": [
    "# CSCI 2000U - Scientific Data Analysis\n",
    "## Final Project - Proposal"
   ]
  },
  {
   "cell_type": "markdown",
   "id": "c78a2adf-d044-4ab5-ac7c-c547096b6424",
   "metadata": {},
   "source": [
    "#### Group Members - Project Group 26\n",
    "- Yaksh Joshi - 100676861 (CRN-42730)\n",
    "- Olivia Ramos - 100755912 (CRN-42730)\n",
    "- Umairuddin Mohammed - 100797124 (CRN-42730)\n",
    "- Ajaane Kanagasabai - 100785593 (CRN-42730)"
   ]
  },
  {
   "cell_type": "markdown",
   "id": "41873773-bd81-4db1-8120-4cd44d835fdb",
   "metadata": {},
   "source": [
    "## The dataset\n",
    "**Suicide Rates Overview 1985 to 2016**\n",
    "\n",
    "*Source: https://www.kaggle.com/russellyates88/suicide-rates-overview-1985-to-2016*\n",
    "\n",
    "This dataset contains the suicide rates of all the countries from 1985 to 2016.\n",
    "\n",
    "\n",
    "- country - Country in the world\n",
    "- year - Year for which data is shown\n",
    "- sex -Gender description (i.e. male, female)\n",
    "- age - The cluster of age group\n",
    "- suicide_no - Number of suicides\n",
    "- population - Population of the country\n",
    "- suicides/100k pop - The number of suicides per 100k population\n",
    "- country-year - country-year composite key\n",
    "- HDI for year - Human Development Index for that year\n",
    "- gdp_for_year (\\\\$) - GDP of the country for that year (USD)\n",
    "- gdp_per_capita (\\\\$) - GDP per capita for that country (USD)\n",
    "- generation - The generation of a particular group\n",
    "\n"
   ]
  },
  {
   "cell_type": "code",
   "execution_count": 1,
   "id": "e8cab2f0-6fa1-40b9-8d0f-fa574387564b",
   "metadata": {},
   "outputs": [],
   "source": [
    "import csv\n",
    "import re\n",
    "from functools import reduce\n",
    "import numpy as np\n",
    "import matplotlib.pyplot as plt\n",
    "import pandas as pd\n",
    "import seaborn as sns\n",
    "\n",
    "# this aux function reads the CSV file and returns the data in a Python dictionary\n",
    "def get_data_csv():\n",
    "    collection = []\n",
    "    with open('master.csv', 'r',encoding='utf-8-sig') as f:\n",
    "        for line in csv.DictReader(f):\n",
    "            collection.append(line)\n",
    "        return collection\n",
    "        \n",
    "# the data    \n",
    "data = get_data_csv()"
   ]
  },
  {
   "cell_type": "markdown",
   "id": "a6ce4eeb-460a-4add-9644-846ca9d10a2f",
   "metadata": {},
   "source": [
    "#### Code Analysis\n",
    "The total records in the data"
   ]
  },
  {
   "cell_type": "code",
   "execution_count": 2,
   "id": "7246c0ee-5cc8-4c57-928f-16d4a136eadf",
   "metadata": {},
   "outputs": [
    {
     "data": {
      "text/plain": [
       "27820"
      ]
     },
     "execution_count": 2,
     "metadata": {},
     "output_type": "execute_result"
    }
   ],
   "source": [
    "len(data)"
   ]
  },
  {
   "cell_type": "markdown",
   "id": "85268825-9842-4720-b897-35739ad6523f",
   "metadata": {},
   "source": [
    "### Displaying the top 3 records"
   ]
  },
  {
   "cell_type": "code",
   "execution_count": 3,
   "id": "70f20bbf-38a1-41b8-b3d7-ac2a5f5b4ab4",
   "metadata": {},
   "outputs": [
    {
     "data": {
      "text/plain": [
       "[{'country': 'Albania',\n",
       "  'year': '1987',\n",
       "  'sex': 'male',\n",
       "  'age': '15-24 years',\n",
       "  'suicides_no': '21',\n",
       "  'population': '312900',\n",
       "  'suicides/100k pop': '6.71',\n",
       "  'country-year': 'Albania1987',\n",
       "  'HDI for year': '',\n",
       "  ' gdp_for_year ($) ': '2,156,624,900',\n",
       "  'gdp_per_capita ($)': '796',\n",
       "  'generation': 'Generation X'},\n",
       " {'country': 'Albania',\n",
       "  'year': '1987',\n",
       "  'sex': 'male',\n",
       "  'age': '35-54 years',\n",
       "  'suicides_no': '16',\n",
       "  'population': '308000',\n",
       "  'suicides/100k pop': '5.19',\n",
       "  'country-year': 'Albania1987',\n",
       "  'HDI for year': '',\n",
       "  ' gdp_for_year ($) ': '2,156,624,900',\n",
       "  'gdp_per_capita ($)': '796',\n",
       "  'generation': 'Silent'},\n",
       " {'country': 'Albania',\n",
       "  'year': '1987',\n",
       "  'sex': 'female',\n",
       "  'age': '15-24 years',\n",
       "  'suicides_no': '14',\n",
       "  'population': '289700',\n",
       "  'suicides/100k pop': '4.83',\n",
       "  'country-year': 'Albania1987',\n",
       "  'HDI for year': '',\n",
       "  ' gdp_for_year ($) ': '2,156,624,900',\n",
       "  'gdp_per_capita ($)': '796',\n",
       "  'generation': 'Generation X'}]"
      ]
     },
     "execution_count": 3,
     "metadata": {},
     "output_type": "execute_result"
    }
   ],
   "source": [
    "list(data)[:3]"
   ]
  },
  {
   "cell_type": "markdown",
   "id": "5a93a580-a3d1-4f1b-b144-a8c0362dd3be",
   "metadata": {},
   "source": [
    "### The number of unique countries represented in the dataset"
   ]
  },
  {
   "cell_type": "code",
   "execution_count": 4,
   "id": "99b4caf1-1cf5-4885-97c3-c144a0a73924",
   "metadata": {},
   "outputs": [
    {
     "name": "stdout",
     "output_type": "stream",
     "text": [
      "There are total 101 unique countries represented in the dataset\n"
     ]
    }
   ],
   "source": [
    "Country = []\n",
    "for n in data:\n",
    "    Country.append(n['country'])\n",
    "    \n",
    "print(\"There are total %d unique countries represented in the dataset\" % len(set(Country)))"
   ]
  },
  {
   "cell_type": "markdown",
   "id": "a509c3b8-a567-4892-afb1-21b363436db3",
   "metadata": {},
   "source": [
    "### What is range of the years covered in dataset?"
   ]
  },
  {
   "cell_type": "code",
   "execution_count": 5,
   "id": "5c8607c1-1009-4407-a158-75963b62468d",
   "metadata": {},
   "outputs": [
    {
     "data": {
      "text/plain": [
       "{'1985',\n",
       " '1986',\n",
       " '1987',\n",
       " '1988',\n",
       " '1989',\n",
       " '1990',\n",
       " '1991',\n",
       " '1992',\n",
       " '1993',\n",
       " '1994',\n",
       " '1995',\n",
       " '1996',\n",
       " '1997',\n",
       " '1998',\n",
       " '1999',\n",
       " '2000',\n",
       " '2001',\n",
       " '2002',\n",
       " '2003',\n",
       " '2004',\n",
       " '2005',\n",
       " '2006',\n",
       " '2007',\n",
       " '2008',\n",
       " '2009',\n",
       " '2010',\n",
       " '2011',\n",
       " '2012',\n",
       " '2013',\n",
       " '2014',\n",
       " '2015',\n",
       " '2016'}"
      ]
     },
     "execution_count": 5,
     "metadata": {},
     "output_type": "execute_result"
    }
   ],
   "source": [
    "Year = []\n",
    "for n in data:\n",
    "    Year.append(n['year'])\n",
    "    \n",
    "set(Year)"
   ]
  },
  {
   "cell_type": "markdown",
   "id": "37ea66ba-ff45-4f5c-a5e2-5f87185055b9",
   "metadata": {},
   "source": [
    "### What are the different sexes covered in the dataset?"
   ]
  },
  {
   "cell_type": "code",
   "execution_count": 6,
   "id": "07c2bd03-c6c4-4009-9557-36f0c2208fd5",
   "metadata": {},
   "outputs": [
    {
     "data": {
      "text/plain": [
       "{'female', 'male'}"
      ]
     },
     "execution_count": 6,
     "metadata": {},
     "output_type": "execute_result"
    }
   ],
   "source": [
    "Sex = []\n",
    "\n",
    "for n in data:\n",
    "    Sex.append(n['sex'])\n",
    "    \n",
    "set(Sex)"
   ]
  },
  {
   "cell_type": "markdown",
   "id": "a9ba7c13-6a29-4fb0-a8ab-0de12e3d86a8",
   "metadata": {},
   "source": [
    "### How many age groups are covered in the dataset and which are they?"
   ]
  },
  {
   "cell_type": "code",
   "execution_count": 7,
   "id": "4c784a26-212d-4761-a7b1-8f6b36f629a5",
   "metadata": {},
   "outputs": [
    {
     "name": "stdout",
     "output_type": "stream",
     "text": [
      "{'15-24 years', '35-54 years', '25-34 years', '5-14 years', '55-74 years', '75+ years'}\n",
      "Total 6  age groups\n"
     ]
    }
   ],
   "source": [
    "Age = []\n",
    "\n",
    "for n in data:\n",
    "    Age.append(n['age'])\n",
    "    \n",
    "print(set(Age))\n",
    "print(\"Total %d  age groups\" % len(set(Age)))"
   ]
  },
  {
   "cell_type": "markdown",
   "id": "f005ac42-043b-4d63-9ec8-871688c28a6f",
   "metadata": {},
   "source": [
    "### How many different generations are there and which are they?"
   ]
  },
  {
   "cell_type": "code",
   "execution_count": 8,
   "id": "5b000e86-5f8f-40d3-9ebd-64f860040800",
   "metadata": {},
   "outputs": [
    {
     "name": "stdout",
     "output_type": "stream",
     "text": [
      "{'Generation X', 'Silent', 'Boomers', 'Millenials', 'Generation Z', 'G.I. Generation'}\n",
      "Total 6  generation groups\n"
     ]
    }
   ],
   "source": [
    "Generation = []\n",
    "for n in data:\n",
    "    Generation.append(n['generation'])\n",
    "print(set(Generation))\n",
    "print(\"Total %d  generation groups\" % len(set(Generation)))"
   ]
  },
  {
   "cell_type": "markdown",
   "id": "77110f59-06d0-4636-b4c9-5adab3e9f479",
   "metadata": {},
   "source": [
    "#### Motivation for choosing dataset\n",
    "As global suicide rates are increasing, we chose a dataset that provides enough data with a wide range of attributes that can demonstrate a correlation between key socio-economic factors (i.e., the status of particular groups) and suicide rates. Since this dataset provides socio-economic background for each nation on the basis of years, we can attribute increased/decreased sucicide rates among different groups within a particular time, generation, country, etc. Therefore, the collection of such data can demonstrate certain indicators of increased suicide rates, which is useful in the cause of suicide prevetion."
   ]
  },
  {
   "cell_type": "markdown",
   "id": "afc0cb9c-7f88-4e40-b70b-6f13a7eb2028",
   "metadata": {},
   "source": [
    "#### Interesting Dataset apart from this one\n",
    "We were also interested in a couple of other datasets, their description is as follows:\n",
    "1) Earthquakes in Canada - This dataset represents the unique attributes of earthquakes, by analyzing this dataset we can see the pattern of earthquakes geographically in Canada.\n",
    "2) Unemployment rates of population aged 15 and over, total and with Indigenous identity, by educational attainment, Canada - This dataset shows the crucial details of the unemployment rates among total population with Indigenous identity with respect to eductional attainment in Canada."
   ]
  },
  {
   "cell_type": "markdown",
   "id": "781ef4c5-ba34-40f4-bc1c-df1936aa5ffa",
   "metadata": {},
   "source": [
    "#### Data Analysis Questions\n",
    "1) Which generation and age range experiences the most significant suicide rates? \n",
    "2) Which sex predomiantly makes up the global suicide rate?\n",
    "3) Which countries display the lowest, highest, and average suicide rates? What socio-economic factors can you attrirbute to this?\n",
    "4) What can the suicide rate vs. year range indicate globally, and within a particular country?\n",
    "5) Does the GDP have a negative or positive correlation with suicide rates?\n",
    "6) Does the GDP per capita have a negative or positive correlation with suicide rates?\n",
    "7) Are the suicide rates highest among countries with the greatest population, or does there exist a country with a higher suicide rate but smaller population?\n",
    "8) Provide explanation of the variance between countries and their suicide rates."
   ]
  },
  {
   "cell_type": "markdown",
   "id": "bc98cb2d-5d49-4d35-80c1-14c28ce550ce",
   "metadata": {},
   "source": [
    "#### Potential Data Science Applications"
   ]
  },
  {
   "cell_type": "markdown",
   "id": "1a1350f7",
   "metadata": {},
   "source": [
    "1) Regressive analysis can demonstate the relationship between unique independent variables (population, GDP, etc.) and the dependent variable (number of suicides). How x and y interact can provide insight into trends pertaining to the increase/decrease of the number of suicides.\n",
    "2) Visual models can be used to highlight the differences between variables; bringing attention to certain socio-economic factors which should be considered in the prevention of suicide. Visual models include bar graphs, world maps, pie charts, etc.\n",
    "3) Time-series model can be used to predict future trends pertaining to the growth, decrease, or levelling of suicide rates.\n",
    "4) A clustering model, which combines certain attributes can be used to determine its relation of multiple independent varibles to the dependent variable (increased suicide risks). "
   ]
  },
  {
   "cell_type": "code",
   "execution_count": 9,
   "id": "c2aae8fd",
   "metadata": {},
   "outputs": [
    {
     "name": "stderr",
     "output_type": "stream",
     "text": [
      "/tmp/ipykernel_1358/2372571719.py:5: FutureWarning: In a future version of pandas all arguments of DataFrame.dropna will be keyword-only\n",
      "  df = df.dropna('columns')\n"
     ]
    },
    {
     "data": {
      "image/png": "[encoded data removed]",
      "text/plain": [
       "<Figure size 720x720 with 2 Axes>"
      ]
     },
     "metadata": {
      "needs_background": "light"
     },
     "output_type": "display_data"
    }
   ],
   "source": [
    "df = pd.read_csv('master.csv')\n",
    "\n",
    "#function to plot correlation matrix \n",
    "def plot_matrix(df, size):\n",
    "    df = df.dropna('columns')\n",
    "    c_plot = df.corr()\n",
    "    plt.figure(figsize = (size, size))\n",
    "    c_mat = plt.matshow(c_plot, fignum = 1)\n",
    "    plt.xticks(range(len(c_plot.columns)), c_plot.columns, rotation=20)\n",
    "    plt.yticks(range(len(c_plot.columns)), c_plot.columns)\n",
    "    plt.colorbar(c_mat)\n",
    "    plt.show()\n",
    "plot_matrix(df, 10)"
   ]
  },
  {
   "cell_type": "markdown",
   "id": "1d292bc9",
   "metadata": {},
   "source": [
    "From the correlation matrix, we can see that there is a weak correlation between most the of variables in regards to 'suicides_no' (number of suicides) and 'suicides/100k pop' (suicides per 100k of the population). The exception to this is when comparing these variables to population. As expected, a greater population will yield a higher suicide rates. In addition, there seems to be a slight positive increase in the correlation between these two variables (suicide rates) and the GDP per capita. Does an increase in GDP mean higher suicide rates?"
   ]
  },
  {
   "cell_type": "code",
   "execution_count": 10,
   "id": "8aad0666",
   "metadata": {},
   "outputs": [
    {
     "data": {
      "text/html": [
       "<div>\n",
       "<style scoped>\n",
       "    .dataframe tbody tr th:only-of-type {\n",
       "        vertical-align: middle;\n",
       "    }\n",
       "\n",
       "    .dataframe tbody tr th {\n",
       "        vertical-align: top;\n",
       "    }\n",
       "\n",
       "    .dataframe thead th {\n",
       "        text-align: right;\n",
       "    }\n",
       "</style>\n",
       "<table border=\"1\" class=\"dataframe\">\n",
       "  <thead>\n",
       "    <tr style=\"text-align: right;\">\n",
       "      <th></th>\n",
       "      <th>country</th>\n",
       "      <th>year</th>\n",
       "      <th>sex</th>\n",
       "      <th>age</th>\n",
       "      <th>suicides_no</th>\n",
       "      <th>population</th>\n",
       "      <th>suicides/100k pop</th>\n",
       "      <th>country-year</th>\n",
       "      <th>HDI for year</th>\n",
       "      <th>gdp_for_year ($)</th>\n",
       "      <th>gdp_per_capita ($)</th>\n",
       "      <th>generation</th>\n",
       "    </tr>\n",
       "  </thead>\n",
       "  <tbody>\n",
       "    <tr>\n",
       "      <th>0</th>\n",
       "      <td>Albania</td>\n",
       "      <td>1987</td>\n",
       "      <td>male</td>\n",
       "      <td>15-24 years</td>\n",
       "      <td>21</td>\n",
       "      <td>312900</td>\n",
       "      <td>6.71</td>\n",
       "      <td>Albania1987</td>\n",
       "      <td>NaN</td>\n",
       "      <td>2,156,624,900</td>\n",
       "      <td>796</td>\n",
       "      <td>Generation X</td>\n",
       "    </tr>\n",
       "    <tr>\n",
       "      <th>1</th>\n",
       "      <td>Albania</td>\n",
       "      <td>1987</td>\n",
       "      <td>male</td>\n",
       "      <td>35-54 years</td>\n",
       "      <td>16</td>\n",
       "      <td>308000</td>\n",
       "      <td>5.19</td>\n",
       "      <td>Albania1987</td>\n",
       "      <td>NaN</td>\n",
       "      <td>2,156,624,900</td>\n",
       "      <td>796</td>\n",
       "      <td>Silent</td>\n",
       "    </tr>\n",
       "    <tr>\n",
       "      <th>2</th>\n",
       "      <td>Albania</td>\n",
       "      <td>1987</td>\n",
       "      <td>female</td>\n",
       "      <td>15-24 years</td>\n",
       "      <td>14</td>\n",
       "      <td>289700</td>\n",
       "      <td>4.83</td>\n",
       "      <td>Albania1987</td>\n",
       "      <td>NaN</td>\n",
       "      <td>2,156,624,900</td>\n",
       "      <td>796</td>\n",
       "      <td>Generation X</td>\n",
       "    </tr>\n",
       "    <tr>\n",
       "      <th>3</th>\n",
       "      <td>Albania</td>\n",
       "      <td>1987</td>\n",
       "      <td>male</td>\n",
       "      <td>75+ years</td>\n",
       "      <td>1</td>\n",
       "      <td>21800</td>\n",
       "      <td>4.59</td>\n",
       "      <td>Albania1987</td>\n",
       "      <td>NaN</td>\n",
       "      <td>2,156,624,900</td>\n",
       "      <td>796</td>\n",
       "      <td>G.I. Generation</td>\n",
       "    </tr>\n",
       "    <tr>\n",
       "      <th>4</th>\n",
       "      <td>Albania</td>\n",
       "      <td>1987</td>\n",
       "      <td>male</td>\n",
       "      <td>25-34 years</td>\n",
       "      <td>9</td>\n",
       "      <td>274300</td>\n",
       "      <td>3.28</td>\n",
       "      <td>Albania1987</td>\n",
       "      <td>NaN</td>\n",
       "      <td>2,156,624,900</td>\n",
       "      <td>796</td>\n",
       "      <td>Boomers</td>\n",
       "    </tr>\n",
       "  </tbody>\n",
       "</table>\n",
       "</div>"
      ],
      "text/plain": [
       "   country  year     sex          age  suicides_no  population  \\\n",
       "0  Albania  1987    male  15-24 years           21      312900   \n",
       "1  Albania  1987    male  35-54 years           16      308000   \n",
       "2  Albania  1987  female  15-24 years           14      289700   \n",
       "3  Albania  1987    male    75+ years            1       21800   \n",
       "4  Albania  1987    male  25-34 years            9      274300   \n",
       "\n",
       "   suicides/100k pop country-year  HDI for year  gdp_for_year ($)   \\\n",
       "0               6.71  Albania1987           NaN      2,156,624,900   \n",
       "1               5.19  Albania1987           NaN      2,156,624,900   \n",
       "2               4.83  Albania1987           NaN      2,156,624,900   \n",
       "3               4.59  Albania1987           NaN      2,156,624,900   \n",
       "4               3.28  Albania1987           NaN      2,156,624,900   \n",
       "\n",
       "   gdp_per_capita ($)       generation  \n",
       "0                 796     Generation X  \n",
       "1                 796           Silent  \n",
       "2                 796     Generation X  \n",
       "3                 796  G.I. Generation  \n",
       "4                 796          Boomers  "
      ]
     },
     "execution_count": 10,
     "metadata": {},
     "output_type": "execute_result"
    }
   ],
   "source": [
    "df.head()"
   ]
  },
  {
   "cell_type": "code",
   "execution_count": 11,
   "id": "b44a51c1",
   "metadata": {},
   "outputs": [
    {
     "data": {
      "text/html": [
       "<div>\n",
       "<style scoped>\n",
       "    .dataframe tbody tr th:only-of-type {\n",
       "        vertical-align: middle;\n",
       "    }\n",
       "\n",
       "    .dataframe tbody tr th {\n",
       "        vertical-align: top;\n",
       "    }\n",
       "\n",
       "    .dataframe thead th {\n",
       "        text-align: right;\n",
       "    }\n",
       "</style>\n",
       "<table border=\"1\" class=\"dataframe\">\n",
       "  <thead>\n",
       "    <tr style=\"text-align: right;\">\n",
       "      <th></th>\n",
       "      <th>year</th>\n",
       "      <th>suicides_no</th>\n",
       "      <th>population</th>\n",
       "      <th>suicides/100k pop</th>\n",
       "      <th>HDI for year</th>\n",
       "      <th>gdp_per_capita ($)</th>\n",
       "    </tr>\n",
       "  </thead>\n",
       "  <tbody>\n",
       "    <tr>\n",
       "      <th>count</th>\n",
       "      <td>27820.000000</td>\n",
       "      <td>27820.000000</td>\n",
       "      <td>2.782000e+04</td>\n",
       "      <td>27820.000000</td>\n",
       "      <td>8364.000000</td>\n",
       "      <td>27820.000000</td>\n",
       "    </tr>\n",
       "    <tr>\n",
       "      <th>mean</th>\n",
       "      <td>2001.258375</td>\n",
       "      <td>242.574407</td>\n",
       "      <td>1.844794e+06</td>\n",
       "      <td>12.816097</td>\n",
       "      <td>0.776601</td>\n",
       "      <td>16866.464414</td>\n",
       "    </tr>\n",
       "    <tr>\n",
       "      <th>std</th>\n",
       "      <td>8.469055</td>\n",
       "      <td>902.047917</td>\n",
       "      <td>3.911779e+06</td>\n",
       "      <td>18.961511</td>\n",
       "      <td>0.093367</td>\n",
       "      <td>18887.576472</td>\n",
       "    </tr>\n",
       "    <tr>\n",
       "      <th>min</th>\n",
       "      <td>1985.000000</td>\n",
       "      <td>0.000000</td>\n",
       "      <td>2.780000e+02</td>\n",
       "      <td>0.000000</td>\n",
       "      <td>0.483000</td>\n",
       "      <td>251.000000</td>\n",
       "    </tr>\n",
       "    <tr>\n",
       "      <th>25%</th>\n",
       "      <td>1995.000000</td>\n",
       "      <td>3.000000</td>\n",
       "      <td>9.749850e+04</td>\n",
       "      <td>0.920000</td>\n",
       "      <td>0.713000</td>\n",
       "      <td>3447.000000</td>\n",
       "    </tr>\n",
       "    <tr>\n",
       "      <th>50%</th>\n",
       "      <td>2002.000000</td>\n",
       "      <td>25.000000</td>\n",
       "      <td>4.301500e+05</td>\n",
       "      <td>5.990000</td>\n",
       "      <td>0.779000</td>\n",
       "      <td>9372.000000</td>\n",
       "    </tr>\n",
       "    <tr>\n",
       "      <th>75%</th>\n",
       "      <td>2008.000000</td>\n",
       "      <td>131.000000</td>\n",
       "      <td>1.486143e+06</td>\n",
       "      <td>16.620000</td>\n",
       "      <td>0.855000</td>\n",
       "      <td>24874.000000</td>\n",
       "    </tr>\n",
       "    <tr>\n",
       "      <th>max</th>\n",
       "      <td>2016.000000</td>\n",
       "      <td>22338.000000</td>\n",
       "      <td>4.380521e+07</td>\n",
       "      <td>224.970000</td>\n",
       "      <td>0.944000</td>\n",
       "      <td>126352.000000</td>\n",
       "    </tr>\n",
       "  </tbody>\n",
       "</table>\n",
       "</div>"
      ],
      "text/plain": [
       "               year   suicides_no    population  suicides/100k pop  \\\n",
       "count  27820.000000  27820.000000  2.782000e+04       27820.000000   \n",
       "mean    2001.258375    242.574407  1.844794e+06          12.816097   \n",
       "std        8.469055    902.047917  3.911779e+06          18.961511   \n",
       "min     1985.000000      0.000000  2.780000e+02           0.000000   \n",
       "25%     1995.000000      3.000000  9.749850e+04           0.920000   \n",
       "50%     2002.000000     25.000000  4.301500e+05           5.990000   \n",
       "75%     2008.000000    131.000000  1.486143e+06          16.620000   \n",
       "max     2016.000000  22338.000000  4.380521e+07         224.970000   \n",
       "\n",
       "       HDI for year  gdp_per_capita ($)  \n",
       "count   8364.000000        27820.000000  \n",
       "mean       0.776601        16866.464414  \n",
       "std        0.093367        18887.576472  \n",
       "min        0.483000          251.000000  \n",
       "25%        0.713000         3447.000000  \n",
       "50%        0.779000         9372.000000  \n",
       "75%        0.855000        24874.000000  \n",
       "max        0.944000       126352.000000  "
      ]
     },
     "execution_count": 11,
     "metadata": {},
     "output_type": "execute_result"
    }
   ],
   "source": [
    "df.describe()"
   ]
  },
  {
   "cell_type": "code",
   "execution_count": 19,
   "id": "b8b62d89",
   "metadata": {},
   "outputs": [
    {
     "name": "stdout",
     "output_type": "stream",
     "text": [
      "<class 'pandas.core.frame.DataFrame'>\n",
      "RangeIndex: 27820 entries, 0 to 27819\n",
      "Data columns (total 12 columns):\n",
      " #   Column              Non-Null Count  Dtype  \n",
      "---  ------              --------------  -----  \n",
      " 0   country             27820 non-null  object \n",
      " 1   year                27820 non-null  int64  \n",
      " 2   sex                 27820 non-null  object \n",
      " 3   age                 27820 non-null  object \n",
      " 4   suicides_no         27820 non-null  int64  \n",
      " 5   population          27820 non-null  int64  \n",
      " 6   suicides/100k pop   27820 non-null  float64\n",
      " 7   country-year        27820 non-null  object \n",
      " 8   HDI for year        8364 non-null   float64\n",
      " 9    gdp_for_year ($)   27820 non-null  object \n",
      " 10  gdp_per_capita ($)  27820 non-null  int64  \n",
      " 11  generation          27820 non-null  object \n",
      "dtypes: float64(2), int64(4), object(6)\n",
      "memory usage: 2.5+ MB\n"
     ]
    }
   ],
   "source": [
    "df.info()"
   ]
  },
  {
   "cell_type": "markdown",
   "id": "0384740a",
   "metadata": {},
   "source": [
    "First, let's analyze the distribution of generation:"
   ]
  },
  {
   "cell_type": "code",
   "execution_count": 13,
   "id": "ec8f7b85",
   "metadata": {},
   "outputs": [
    {
     "data": {
      "text/plain": [
       "[Text(0.5, 0, 'Count'), Text(0, 0.5, 'Generation')]"
      ]
     },
     "execution_count": 13,
     "metadata": {},
     "output_type": "execute_result"
    },
    {
     "data": {
      "image/png": "[encoded data removed]",
      "text/plain": [
       "<Figure size 720x504 with 1 Axes>"
      ]
     },
     "metadata": {
      "needs_background": "light"
     },
     "output_type": "display_data"
    }
   ],
   "source": [
    "gen_count = df['generation'].value_counts(ascending=True)\n",
    "gen_count.plot.barh(title='Distribution of Generation', figsize=(10, 7)).set(xlabel='Count', ylabel='Generation')"
   ]
  },
  {
   "cell_type": "markdown",
   "id": "358ae79f",
   "metadata": {},
   "source": [
    "From the distribution chart above, we can see that Generation X makes up the majority of the count; closely followed by the Silent Generation. Generation Z displays the lowest distribution. Let's determine the the top 10 years for suicides by generation:"
   ]
  },
  {
   "cell_type": "code",
   "execution_count": 18,
   "id": "32df8a34",
   "metadata": {},
   "outputs": [
    {
     "data": {
      "image/png": "[encoded data removed]",
      "text/plain": [
       "<Figure size 1296x432 with 1 Axes>"
      ]
     },
     "metadata": {
      "needs_background": "light"
     },
     "output_type": "display_data"
    }
   ],
   "source": [
    "top_years_gen = df['year'].value_counts().nlargest(10).index\n",
    "plt.figure(figsize=(18, 6))\n",
    "sns.countplot(x=\"year\", data=df, order=top_years_gen, palette='pastel', hue='generation')\n",
    "plt.xticks(size=25, rotation=0)\n",
    "plt.title(\"Top 10 Years for Suicides by Generation\",fontsize=20)\n",
    "plt.show()\n"
   ]
  },
  {
   "cell_type": "markdown",
   "id": "64ec9a52",
   "metadata": {},
   "source": [
    "Throughout the 2000s, the Silent generation, Gen X, and Millenials follow the trend of their distribution. The top year for suicides by generation is 2009. Now, observing the number (sum) of suicides per year:"
   ]
  },
  {
   "cell_type": "code",
   "execution_count": 36,
   "id": "af6cc7a6",
   "metadata": {},
   "outputs": [
    {
     "data": {
      "text/html": [
       "<div>\n",
       "<style scoped>\n",
       "    .dataframe tbody tr th:only-of-type {\n",
       "        vertical-align: middle;\n",
       "    }\n",
       "\n",
       "    .dataframe tbody tr th {\n",
       "        vertical-align: top;\n",
       "    }\n",
       "\n",
       "    .dataframe thead th {\n",
       "        text-align: right;\n",
       "    }\n",
       "</style>\n",
       "<table border=\"1\" class=\"dataframe\">\n",
       "  <thead>\n",
       "    <tr style=\"text-align: right;\">\n",
       "      <th></th>\n",
       "      <th>year</th>\n",
       "      <th>suicides_no</th>\n",
       "    </tr>\n",
       "  </thead>\n",
       "  <tbody>\n",
       "    <tr>\n",
       "      <th>27</th>\n",
       "      <td>2012</td>\n",
       "      <td>230160</td>\n",
       "    </tr>\n",
       "    <tr>\n",
       "      <th>28</th>\n",
       "      <td>2013</td>\n",
       "      <td>223199</td>\n",
       "    </tr>\n",
       "    <tr>\n",
       "      <th>29</th>\n",
       "      <td>2014</td>\n",
       "      <td>222984</td>\n",
       "    </tr>\n",
       "    <tr>\n",
       "      <th>30</th>\n",
       "      <td>2015</td>\n",
       "      <td>203640</td>\n",
       "    </tr>\n",
       "    <tr>\n",
       "      <th>31</th>\n",
       "      <td>2016</td>\n",
       "      <td>15603</td>\n",
       "    </tr>\n",
       "  </tbody>\n",
       "</table>\n",
       "</div>"
      ],
      "text/plain": [
       "    year  suicides_no\n",
       "27  2012       230160\n",
       "28  2013       223199\n",
       "29  2014       222984\n",
       "30  2015       203640\n",
       "31  2016        15603"
      ]
     },
     "execution_count": 36,
     "metadata": {},
     "output_type": "execute_result"
    },
    {
     "data": {
      "image/png": "[encoded data removed]",
      "text/plain": [
       "<Figure size 864x432 with 1 Axes>"
      ]
     },
     "metadata": {
      "needs_background": "light"
     },
     "output_type": "display_data"
    }
   ],
   "source": [
    "year_suicide = df.groupby('year')['suicides_no'].sum().reset_index()\n",
    "year_suicide.plot(kind='bar', figsize=(12,6), x='year')\n",
    "year_suicide.tail(5)"
   ]
  },
  {
   "cell_type": "markdown",
   "id": "4f3ed835",
   "metadata": {},
   "source": [
    "From the chart, we can see that the total number of suicides increases from 1985 onward. The sum peaks in 1998-2003, declines slightly, then drops drastically after 2015. "
   ]
  },
  {
   "cell_type": "code",
   "execution_count": 37,
   "id": "d467f274",
   "metadata": {},
   "outputs": [
    {
     "data": {
      "image/png": "[encoded data removed]",
      "text/plain": [
       "<Figure size 864x432 with 1 Axes>"
      ]
     },
     "metadata": {
      "needs_background": "light"
     },
     "output_type": "display_data"
    }
   ],
   "source": [
    "plt.figure(figsize=(12,6))\n",
    "year_suicide_pop = df.groupby(['year']).agg({'suicides_no':'mean', 'population':'mean'}).sort_values(by=['suicides_no']).reset_index()\n",
    "year_suicide_pop['Suicides by the Population'] = year_suicide_pop['suicides_no'] / year_suicide_pop['population']\n",
    "sns.lineplot(x=year_suicide_pop['year'], y=year_suicide_pop['Suicides by the Population']);"
   ]
  },
  {
   "cell_type": "markdown",
   "id": "077c2fca",
   "metadata": {},
   "source": [
    "If we compare the number (sum) of suicides per year vs the averages of suicides by population per year, we can clearly see a drastic increase in the suicide/population rate after 1990, where it peaks around 1995. Before we determine this cause, let's consider which sex makes up the sum of suicides throughout the years:"
   ]
  },
  {
   "cell_type": "code",
   "execution_count": 38,
   "id": "30b99c10",
   "metadata": {},
   "outputs": [
    {
     "name": "stderr",
     "output_type": "stream",
     "text": [
      "/usr/local/lib/python3.8/site-packages/seaborn/_decorators.py:36: FutureWarning: Pass the following variables as keyword args: x, y. From version 0.12, the only valid positional argument will be `data`, and passing other arguments without an explicit keyword will result in an error or misinterpretation.\n",
      "  warnings.warn(\n",
      "/usr/local/lib/python3.8/site-packages/seaborn/_decorators.py:36: FutureWarning: Pass the following variables as keyword args: x, y. From version 0.12, the only valid positional argument will be `data`, and passing other arguments without an explicit keyword will result in an error or misinterpretation.\n",
      "  warnings.warn(\n"
     ]
    },
    {
     "data": {
      "image/png": "[encoded data removed]",
      "text/plain": [
       "<Figure size 720x432 with 1 Axes>"
      ]
     },
     "metadata": {
      "needs_background": "light"
     },
     "output_type": "display_data"
    }
   ],
   "source": [
    "plt.figure(figsize=(10,6))\n",
    "male = df[df['sex'] == 'male']\n",
    "female = df[df['sex'] == 'female']\n",
    "sns.lineplot(male['year'], df['suicides_no'])\n",
    "sns.lineplot(female['year'], df['suicides_no'])\n",
    "plt.legend(['male', 'female'])\n",
    "plt.show()"
   ]
  },
  {
   "cell_type": "code",
   "execution_count": 31,
   "id": "8aa4d41e",
   "metadata": {},
   "outputs": [
    {
     "data": {
      "image/png": "[encoded data removed]",
      "text/plain": [
       "<Figure size 360x360 with 1 Axes>"
      ]
     },
     "metadata": {},
     "output_type": "display_data"
    }
   ],
   "source": [
    "plt.figure(figsize=(5,5))\n",
    "sex = df.groupby('sex')['suicides_no'].sum()\n",
    "plt.pie(sex, autopct='%2.2f%%', labels=['Female', 'Male']);\n"
   ]
  },
  {
   "cell_type": "markdown",
   "id": "a14201ae",
   "metadata": {},
   "source": [
    "Throughout the range of years, males make up the majority of the suicide rates of nearly 77%. Both males and females follow the trend, with rates increasing/decreasing throughout varying years. \n",
    "\n",
    "Now, given the weak correlation between suicide rates and GPD per capita, let's observe what the averages of suicide/population demonstrate by country:"
   ]
  },
  {
   "cell_type": "code",
   "execution_count": 45,
   "id": "42912be5",
   "metadata": {},
   "outputs": [
    {
     "data": {
      "text/html": [
       "<div>\n",
       "<style scoped>\n",
       "    .dataframe tbody tr th:only-of-type {\n",
       "        vertical-align: middle;\n",
       "    }\n",
       "\n",
       "    .dataframe tbody tr th {\n",
       "        vertical-align: top;\n",
       "    }\n",
       "\n",
       "    .dataframe thead th {\n",
       "        text-align: right;\n",
       "    }\n",
       "</style>\n",
       "<table border=\"1\" class=\"dataframe\">\n",
       "  <thead>\n",
       "    <tr style=\"text-align: right;\">\n",
       "      <th></th>\n",
       "      <th>country</th>\n",
       "      <th>sex</th>\n",
       "      <th>gdp_per_capita ($)</th>\n",
       "      <th>suicides_no</th>\n",
       "      <th>population</th>\n",
       "      <th>Suicides by the Population</th>\n",
       "    </tr>\n",
       "  </thead>\n",
       "  <tbody>\n",
       "    <tr>\n",
       "      <th>42</th>\n",
       "      <td>Lithuania</td>\n",
       "      <td>male</td>\n",
       "      <td>9280.549618</td>\n",
       "      <td>175.786260</td>\n",
       "      <td>2.402566e+05</td>\n",
       "      <td>0.000732</td>\n",
       "    </tr>\n",
       "    <tr>\n",
       "      <th>0</th>\n",
       "      <td>Russian Federation</td>\n",
       "      <td>male</td>\n",
       "      <td>6518.814815</td>\n",
       "      <td>6144.518519</td>\n",
       "      <td>1.055612e+07</td>\n",
       "      <td>0.000582</td>\n",
       "    </tr>\n",
       "    <tr>\n",
       "      <th>23</th>\n",
       "      <td>Belarus</td>\n",
       "      <td>male</td>\n",
       "      <td>3333.904762</td>\n",
       "      <td>395.952381</td>\n",
       "      <td>7.280138e+05</td>\n",
       "      <td>0.000544</td>\n",
       "    </tr>\n",
       "    <tr>\n",
       "      <th>64</th>\n",
       "      <td>Latvia</td>\n",
       "      <td>male</td>\n",
       "      <td>8961.095238</td>\n",
       "      <td>81.714286</td>\n",
       "      <td>1.627728e+05</td>\n",
       "      <td>0.000502</td>\n",
       "    </tr>\n",
       "    <tr>\n",
       "      <th>25</th>\n",
       "      <td>Hungary</td>\n",
       "      <td>male</td>\n",
       "      <td>9370.051613</td>\n",
       "      <td>359.845161</td>\n",
       "      <td>7.608708e+05</td>\n",
       "      <td>0.000473</td>\n",
       "    </tr>\n",
       "    <tr>\n",
       "      <th>12</th>\n",
       "      <td>Sri Lanka</td>\n",
       "      <td>male</td>\n",
       "      <td>904.272727</td>\n",
       "      <td>637.015152</td>\n",
       "      <td>1.379687e+06</td>\n",
       "      <td>0.000462</td>\n",
       "    </tr>\n",
       "    <tr>\n",
       "      <th>14</th>\n",
       "      <td>Kazakhstan</td>\n",
       "      <td>male</td>\n",
       "      <td>5329.115385</td>\n",
       "      <td>534.525641</td>\n",
       "      <td>1.161898e+06</td>\n",
       "      <td>0.000460</td>\n",
       "    </tr>\n",
       "    <tr>\n",
       "      <th>90</th>\n",
       "      <td>Estonia</td>\n",
       "      <td>male</td>\n",
       "      <td>11376.095238</td>\n",
       "      <td>44.769841</td>\n",
       "      <td>9.939199e+04</td>\n",
       "      <td>0.000450</td>\n",
       "    </tr>\n",
       "    <tr>\n",
       "      <th>3</th>\n",
       "      <td>Ukraine</td>\n",
       "      <td>male</td>\n",
       "      <td>1867.535714</td>\n",
       "      <td>1539.125000</td>\n",
       "      <td>3.521422e+06</td>\n",
       "      <td>0.000437</td>\n",
       "    </tr>\n",
       "    <tr>\n",
       "      <th>74</th>\n",
       "      <td>Slovenia</td>\n",
       "      <td>male</td>\n",
       "      <td>18642.238095</td>\n",
       "      <td>65.976190</td>\n",
       "      <td>1.564161e+05</td>\n",
       "      <td>0.000422</td>\n",
       "    </tr>\n",
       "    <tr>\n",
       "      <th>46</th>\n",
       "      <td>Finland</td>\n",
       "      <td>male</td>\n",
       "      <td>35468.275862</td>\n",
       "      <td>149.522989</td>\n",
       "      <td>3.972149e+05</td>\n",
       "      <td>0.000376</td>\n",
       "    </tr>\n",
       "    <tr>\n",
       "      <th>69</th>\n",
       "      <td>Mongolia</td>\n",
       "      <td>male</td>\n",
       "      <td>4145.000000</td>\n",
       "      <td>74.200000</td>\n",
       "      <td>2.096036e+05</td>\n",
       "      <td>0.000354</td>\n",
       "    </tr>\n",
       "    <tr>\n",
       "      <th>115</th>\n",
       "      <td>Guyana</td>\n",
       "      <td>male</td>\n",
       "      <td>1674.920000</td>\n",
       "      <td>17.386667</td>\n",
       "      <td>5.482061e+04</td>\n",
       "      <td>0.000317</td>\n",
       "    </tr>\n",
       "    <tr>\n",
       "      <th>36</th>\n",
       "      <td>Austria</td>\n",
       "      <td>male</td>\n",
       "      <td>34261.780105</td>\n",
       "      <td>193.078534</td>\n",
       "      <td>6.153905e+05</td>\n",
       "      <td>0.000314</td>\n",
       "    </tr>\n",
       "    <tr>\n",
       "      <th>56</th>\n",
       "      <td>Croatia</td>\n",
       "      <td>male</td>\n",
       "      <td>10355.870229</td>\n",
       "      <td>104.992366</td>\n",
       "      <td>3.360778e+05</td>\n",
       "      <td>0.000312</td>\n",
       "    </tr>\n",
       "  </tbody>\n",
       "</table>\n",
       "</div>"
      ],
      "text/plain": [
       "                country   sex  gdp_per_capita ($)  suicides_no    population  \\\n",
       "42            Lithuania  male         9280.549618   175.786260  2.402566e+05   \n",
       "0    Russian Federation  male         6518.814815  6144.518519  1.055612e+07   \n",
       "23              Belarus  male         3333.904762   395.952381  7.280138e+05   \n",
       "64               Latvia  male         8961.095238    81.714286  1.627728e+05   \n",
       "25              Hungary  male         9370.051613   359.845161  7.608708e+05   \n",
       "12            Sri Lanka  male          904.272727   637.015152  1.379687e+06   \n",
       "14           Kazakhstan  male         5329.115385   534.525641  1.161898e+06   \n",
       "90              Estonia  male        11376.095238    44.769841  9.939199e+04   \n",
       "3               Ukraine  male         1867.535714  1539.125000  3.521422e+06   \n",
       "74             Slovenia  male        18642.238095    65.976190  1.564161e+05   \n",
       "46              Finland  male        35468.275862   149.522989  3.972149e+05   \n",
       "69             Mongolia  male         4145.000000    74.200000  2.096036e+05   \n",
       "115              Guyana  male         1674.920000    17.386667  5.482061e+04   \n",
       "36              Austria  male        34261.780105   193.078534  6.153905e+05   \n",
       "56              Croatia  male        10355.870229   104.992366  3.360778e+05   \n",
       "\n",
       "     Suicides by the Population  \n",
       "42                     0.000732  \n",
       "0                      0.000582  \n",
       "23                     0.000544  \n",
       "64                     0.000502  \n",
       "25                     0.000473  \n",
       "12                     0.000462  \n",
       "14                     0.000460  \n",
       "90                     0.000450  \n",
       "3                      0.000437  \n",
       "74                     0.000422  \n",
       "46                     0.000376  \n",
       "69                     0.000354  \n",
       "115                    0.000317  \n",
       "36                     0.000314  \n",
       "56                     0.000312  "
      ]
     },
     "execution_count": 45,
     "metadata": {},
     "output_type": "execute_result"
    }
   ],
   "source": [
    "country_avg = df.groupby(['country','sex']).agg({'gdp_per_capita ($)':'mean', 'suicides_no':'mean', 'population':'mean'}).sort_values(by=['suicides_no'], ascending=False).reset_index()\n",
    "country_avg['Suicides by the Population'] = country_avg['suicides_no'] / country_avg['population']\n",
    "country_avg = country_avg.sort_values(by=['Suicides by the Population'], ascending=False)\n",
    "country_avg['Suicides by the Population'].mean()\n",
    "country_avg.head(15)"
   ]
  },
  {
   "cell_type": "code",
   "execution_count": 61,
   "id": "54140db1",
   "metadata": {},
   "outputs": [
    {
     "data": {
      "image/png": "[encoded data removed]",
      "text/plain": [
       "<Figure size 1440x720 with 1 Axes>"
      ]
     },
     "metadata": {
      "needs_background": "light"
     },
     "output_type": "display_data"
    }
   ],
   "source": [
    "plt.figure(figsize=(20,10))\n",
    "plt.bar(country_avg['country'].head(14), country_avg['Suicides by the Population'].head(14));\n",
    "plt.title(\"Top Countries by Suicide/Pop. Average\", fontsize=20)\n",
    "plt.ylabel(\"Suicides by the Population\", fontsize=18)\n",
    "plt.xlabel(\"Country\", fontsize=18);"
   ]
  },
  {
   "cell_type": "markdown",
   "id": "6cd3fef5",
   "metadata": {},
   "source": [
    "If we observe the figures displaying the average of suicides by population per year vs the suicide/population average by country, we can relate the significant increase in suicide rates after 1990, where it peeks in 1995, to the effects of the dissolution of the Soviet Union in 1991. Hence, many of the top countries displayed above are countries that formed from the fall of the Soviet Union (Burke, 2014)."
   ]
  },
  {
   "cell_type": "markdown",
   "id": "b1d707a8",
   "metadata": {},
   "source": [
    "Works Cited:\n",
    "https://www.theguardian.com/world/2014/jun/09/-sp-profiles-post-soviet-states"
   ]
  }
 ],
 "metadata": {
  "interpreter": {
   "hash": "ed852cdd2905f4fcd29370a78a4c802b4b0b84d02dafcab2dcabc79e0a24decc"
  },
  "kernelspec": {
   "display_name": "Python 3 (ipykernel)",
   "language": "python",
   "name": "python3"
  },
  "language_info": {
   "codemirror_mode": {
    "name": "ipython",
    "version": 3
   },
   "file_extension": ".py",
   "mimetype": "text/x-python",
   "name": "python",
   "nbconvert_exporter": "python",
   "pygments_lexer": "ipython3",
   "version": "3.8.12"
  }
 },
 "nbformat": 4,
 "nbformat_minor": 5
}
