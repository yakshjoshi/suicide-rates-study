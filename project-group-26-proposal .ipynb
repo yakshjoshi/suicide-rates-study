{
 "cells": [
  {
   "cell_type": "markdown",
   "id": "2e73f468-07c9-4b6f-b481-a042d7cc56e2",
   "metadata": {},
   "source": [
    "# CSCI 2000U - Scientific Data Analysis\n",
    "## Final Project - Proposal"
   ]
  },
  {
   "cell_type": "markdown",
   "id": "c78a2adf-d044-4ab5-ac7c-c547096b6424",
   "metadata": {},
   "source": [
    "#### Group Members - Project Group 26\n",
    "- Yaksh Joshi - 100676861 (CRN-42730)\n",
    "- Olivia Ramos - 100755912 (CRN-42730)\n",
    "- Umairuddin Mohammed - 100797124 (CRN-42730)\n",
    "- Ajaane Kanagasabai - 100785593 (CRN-42730)"
   ]
  },
  {
   "cell_type": "markdown",
   "id": "41873773-bd81-4db1-8120-4cd44d835fdb",
   "metadata": {},
   "source": [
    "## The dataset\n",
    "**Suicide Rates Overview 1985 to 2016**\n",
    "\n",
    "*Source: https://www.kaggle.com/russellyates88/suicide-rates-overview-1985-to-2016*\n",
    "\n",
    "This dataset contains the suicide rates of all the countries from 1985 to 2016.\n",
    "\n",
    "\n",
    "- country - Country in the world\n",
    "- year - Year for which data is shown\n",
    "- sex -Gender description (i.e. male, female)\n",
    "- age - The cluster of age group\n",
    "- suicide_no - Number of suicides\n",
    "- population - Population of the country\n",
    "- suicides/100k pop - The number of suicides per 100k population\n",
    "- country-year - country-year composite key\n",
    "- HDI for year - Human Development Index for that year\n",
    "- gdp_for_year (\\\\$) - GDP of the country for that year (USD)\n",
    "- gdp_per_capita (\\\\$) - GDP per capita for that country (USD)\n",
    "- generation - The generation of a particular group\n",
    "\n"
   ]
  },
  {
   "cell_type": "code",
   "execution_count": 1,
   "id": "e8cab2f0-6fa1-40b9-8d0f-fa574387564b",
   "metadata": {},
   "outputs": [],
   "source": [
    "import csv\n",
    "import re\n",
    "from functools import reduce\n",
    "import numpy as np\n",
    "\n",
    "# this aux function reads the CSV file and returns the data in a Python dictionary\n",
    "def get_data_csv():\n",
    "    collection = []\n",
    "    with open('master.csv', 'r',encoding='utf-8-sig') as f:\n",
    "        for line in csv.DictReader(f):\n",
    "            collection.append(line)\n",
    "        return collection\n",
    "        \n",
    "# the data    \n",
    "data = get_data_csv()"
   ]
  },
  {
   "cell_type": "markdown",
   "id": "a6ce4eeb-460a-4add-9644-846ca9d10a2f",
   "metadata": {},
   "source": [
    "#### Code Analysis\n",
    "The total records in the data"
   ]
  },
  {
   "cell_type": "code",
   "execution_count": 2,
   "id": "7246c0ee-5cc8-4c57-928f-16d4a136eadf",
   "metadata": {},
   "outputs": [
    {
     "data": {
      "text/plain": [
       "27820"
      ]
     },
     "execution_count": 2,
     "metadata": {},
     "output_type": "execute_result"
    }
   ],
   "source": [
    "len(data)"
   ]
  },
  {
   "cell_type": "markdown",
   "id": "85268825-9842-4720-b897-35739ad6523f",
   "metadata": {},
   "source": [
    "### Displaying the top 3 records"
   ]
  },
  {
   "cell_type": "code",
   "execution_count": 3,
   "id": "70f20bbf-38a1-41b8-b3d7-ac2a5f5b4ab4",
   "metadata": {},
   "outputs": [
    {
     "data": {
      "text/plain": [
       "[OrderedDict([('country', 'Albania'),\n",
       "              ('year', '1987'),\n",
       "              ('sex', 'male'),\n",
       "              ('age', '15-24 years'),\n",
       "              ('suicides_no', '21'),\n",
       "              ('population', '312900'),\n",
       "              ('suicides/100k pop', '6.71'),\n",
       "              ('country-year', 'Albania1987'),\n",
       "              ('HDI for year', ''),\n",
       "              (' gdp_for_year ($) ', '2,156,624,900'),\n",
       "              ('gdp_per_capita ($)', '796'),\n",
       "              ('generation', 'Generation X')]),\n",
       " OrderedDict([('country', 'Albania'),\n",
       "              ('year', '1987'),\n",
       "              ('sex', 'male'),\n",
       "              ('age', '35-54 years'),\n",
       "              ('suicides_no', '16'),\n",
       "              ('population', '308000'),\n",
       "              ('suicides/100k pop', '5.19'),\n",
       "              ('country-year', 'Albania1987'),\n",
       "              ('HDI for year', ''),\n",
       "              (' gdp_for_year ($) ', '2,156,624,900'),\n",
       "              ('gdp_per_capita ($)', '796'),\n",
       "              ('generation', 'Silent')]),\n",
       " OrderedDict([('country', 'Albania'),\n",
       "              ('year', '1987'),\n",
       "              ('sex', 'female'),\n",
       "              ('age', '15-24 years'),\n",
       "              ('suicides_no', '14'),\n",
       "              ('population', '289700'),\n",
       "              ('suicides/100k pop', '4.83'),\n",
       "              ('country-year', 'Albania1987'),\n",
       "              ('HDI for year', ''),\n",
       "              (' gdp_for_year ($) ', '2,156,624,900'),\n",
       "              ('gdp_per_capita ($)', '796'),\n",
       "              ('generation', 'Generation X')])]"
      ]
     },
     "execution_count": 3,
     "metadata": {},
     "output_type": "execute_result"
    }
   ],
   "source": [
    "list(data)[:3]"
   ]
  },
  {
   "cell_type": "markdown",
   "id": "5a93a580-a3d1-4f1b-b144-a8c0362dd3be",
   "metadata": {},
   "source": [
    "### The number of unique countries represented in the dataset"
   ]
  },
  {
   "cell_type": "code",
   "execution_count": 4,
   "id": "99b4caf1-1cf5-4885-97c3-c144a0a73924",
   "metadata": {},
   "outputs": [
    {
     "name": "stdout",
     "output_type": "stream",
     "text": [
      "There are total 101 unique countries represented in the dataset\n"
     ]
    }
   ],
   "source": [
    "Country = []\n",
    "for n in data:\n",
    "    Country.append(n['country'])\n",
    "    \n",
    "print(\"There are total %d unique countries represented in the dataset\" % len(set(Country)))"
   ]
  },
  {
   "cell_type": "markdown",
   "id": "a509c3b8-a567-4892-afb1-21b363436db3",
   "metadata": {},
   "source": [
    "### What is range of the years covered in dataset?"
   ]
  },
  {
   "cell_type": "code",
   "execution_count": 5,
   "id": "5c8607c1-1009-4407-a158-75963b62468d",
   "metadata": {},
   "outputs": [
    {
     "data": {
      "text/plain": [
       "{'1985',\n",
       " '1986',\n",
       " '1987',\n",
       " '1988',\n",
       " '1989',\n",
       " '1990',\n",
       " '1991',\n",
       " '1992',\n",
       " '1993',\n",
       " '1994',\n",
       " '1995',\n",
       " '1996',\n",
       " '1997',\n",
       " '1998',\n",
       " '1999',\n",
       " '2000',\n",
       " '2001',\n",
       " '2002',\n",
       " '2003',\n",
       " '2004',\n",
       " '2005',\n",
       " '2006',\n",
       " '2007',\n",
       " '2008',\n",
       " '2009',\n",
       " '2010',\n",
       " '2011',\n",
       " '2012',\n",
       " '2013',\n",
       " '2014',\n",
       " '2015',\n",
       " '2016'}"
      ]
     },
     "execution_count": 5,
     "metadata": {},
     "output_type": "execute_result"
    }
   ],
   "source": [
    "Year = []\n",
    "for n in data:\n",
    "    Year.append(n['year'])\n",
    "    \n",
    "set(Year)"
   ]
  },
  {
   "cell_type": "markdown",
   "id": "37ea66ba-ff45-4f5c-a5e2-5f87185055b9",
   "metadata": {},
   "source": [
    "### What are the different sexes covered in the dataset?"
   ]
  },
  {
   "cell_type": "code",
   "execution_count": 6,
   "id": "07c2bd03-c6c4-4009-9557-36f0c2208fd5",
   "metadata": {},
   "outputs": [
    {
     "data": {
      "text/plain": [
       "{'female', 'male'}"
      ]
     },
     "execution_count": 6,
     "metadata": {},
     "output_type": "execute_result"
    }
   ],
   "source": [
    "Sex = []\n",
    "\n",
    "for n in data:\n",
    "    Sex.append(n['sex'])\n",
    "    \n",
    "set(Sex)"
   ]
  },
  {
   "cell_type": "markdown",
   "id": "a9ba7c13-6a29-4fb0-a8ab-0de12e3d86a8",
   "metadata": {},
   "source": [
    "### How many age groups are covered in the dataset and which are they?"
   ]
  },
  {
   "cell_type": "code",
   "execution_count": 7,
   "id": "4c784a26-212d-4761-a7b1-8f6b36f629a5",
   "metadata": {},
   "outputs": [
    {
     "name": "stdout",
     "output_type": "stream",
     "text": [
      "{'55-74 years', '25-34 years', '15-24 years', '35-54 years', '5-14 years', '75+ years'}\n",
      "Total 6  age groups\n"
     ]
    }
   ],
   "source": [
    "Age = []\n",
    "\n",
    "for n in data:\n",
    "    Age.append(n['age'])\n",
    "    \n",
    "print(set(Age))\n",
    "print(\"Total %d  age groups\" % len(set(Age)))"
   ]
  },
  {
   "cell_type": "markdown",
   "id": "f005ac42-043b-4d63-9ec8-871688c28a6f",
   "metadata": {},
   "source": [
    "### How many different generations are there and which are they?"
   ]
  },
  {
   "cell_type": "code",
   "execution_count": 8,
   "id": "5b000e86-5f8f-40d3-9ebd-64f860040800",
   "metadata": {},
   "outputs": [
    {
     "name": "stdout",
     "output_type": "stream",
     "text": [
      "{'G.I. Generation', 'Boomers', 'Generation Z', 'Silent', 'Millenials', 'Generation X'}\n",
      "Total 6  generation groups\n"
     ]
    }
   ],
   "source": [
    "Generation = []\n",
    "for n in data:\n",
    "    Generation.append(n['generation'])\n",
    "print(set(Generation))\n",
    "print(\"Total %d  generation groups\" % len(set(Generation)))"
   ]
  },
  {
   "cell_type": "markdown",
   "id": "77110f59-06d0-4636-b4c9-5adab3e9f479",
   "metadata": {},
   "source": [
    "#### Motivation for choosing dataset\n",
    "As global suicide rates are increasing, we chose a dataset that provides enough data with a wide range of attributes that can demonstrate a correlation between key socio-economic factors (i.e., the status of particular groups) and suicide rates. Since this dataset provides socio-economic background for each nation on the basis of years, we can attribute increased/decreased sucicide rates among different groups within a particular time, generation, country, etc. Therefore, the collection of such data can demonstrate certain indicators of increased suicide rates, which is useful in the cause of suicide prevetion."
   ]
  },
  {
   "cell_type": "markdown",
   "id": "afc0cb9c-7f88-4e40-b70b-6f13a7eb2028",
   "metadata": {},
   "source": [
    "#### Interesting Dataset apart from this one\n",
    "We were also interested in a couple of other datasets, their description is as follows:\n",
    "1) Earthquakes in Canada - This dataset represents the unique attributes of earthquakes, by analyzing this dataset we can see the pattern of earthquakes geographically in Canada.\n",
    "2) Unemployment rates of population aged 15 and over, total and with Indigenous identity, by educational attainment, Canada - This dataset shows the crucial details of the unemployment rates among total population with Indigenous identity with respect to eductional attainment in Canada."
   ]
  },
  {
   "cell_type": "markdown",
   "id": "781ef4c5-ba34-40f4-bc1c-df1936aa5ffa",
   "metadata": {},
   "source": [
    "#### Data Analysis Questions\n",
    "1) Which generation and age range experiences the most significant suicide rates? \n",
    "2) Which sex predomiantly makes up the global suicide rate?\n",
    "3) Which countries display the lowest, highest, and average suicide rates? What socio-economic factors can you attrirbute to this?\n",
    "4) What can the suicide rate vs. year range indicate globally, and within a particular country?\n",
    "5) Does the GDP have a negative or positive correlation with suicide rates?\n",
    "6) Does the GDP per capita have a negative or positive correlation with suicide rates?\n",
    "7) Are the suicide rates highest among countries with the greatest population, or does there exist a country with a higher suicide rate but smaller population?\n",
    "8) Provide explanation of the variance between countries and their suicide rates."
   ]
  },
  {
   "cell_type": "markdown",
   "id": "bc98cb2d-5d49-4d35-80c1-14c28ce550ce",
   "metadata": {},
   "source": [
    "#### Potential Data Science Applications"
   ]
  },
  {
   "cell_type": "markdown",
   "id": "1a1350f7",
   "metadata": {},
   "source": [
    "1) Regressive analysis can demonstate the relationship between unique independent variables (population, GDP, etc.) and the dependent variable (number of suicides). How x and y interact can provide insight into trends pertaining to the increase/decrease of the number of suicides.\n",
    "2) Visual models can be used to highlight the differences between variables; bringing attention to certain socio-economic factors which should be considered in the prevention of suicide. Visual models include bar graphs, world maps, pie charts, etc.\n",
    "3) Time-series model can be used to predict future trends pertaining to the growth, decrease, or levelling of suicide rates.\n",
    "4) A clustering model, which combines certain attributes can be used to determine its relation of multiple independent varibles to the dependent variable (increased suicide risks). "
   ]
  }
 ],
 "metadata": {
  "interpreter": {
   "hash": "ed852cdd2905f4fcd29370a78a4c802b4b0b84d02dafcab2dcabc79e0a24decc"
  },
  "kernelspec": {
   "display_name": "Python 3 (ipykernel)",
   "language": "python",
   "name": "python3"
  },
  "language_info": {
   "codemirror_mode": {
    "name": "ipython",
    "version": 3
   },
   "file_extension": ".py",
   "mimetype": "text/x-python",
   "name": "python",
   "nbconvert_exporter": "python",
   "pygments_lexer": "ipython3",
   "version": "3.7.9"
  }
 },
 "nbformat": 4,
 "nbformat_minor": 5
}
