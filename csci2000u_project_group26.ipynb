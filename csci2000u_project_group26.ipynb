{
  "nbformat": 4,
  "nbformat_minor": 5,
  "metadata": {
    "kernelspec": {
      "display_name": "Python 3 (ipykernel)",
      "language": "python",
      "name": "python3"
    },
    "language_info": {
      "codemirror_mode": {
        "name": "ipython",
        "version": 3
      },
      "file_extension": ".py",
      "mimetype": "text/x-python",
      "name": "python",
      "nbconvert_exporter": "python",
      "pygments_lexer": "ipython3",
      "version": "3.8.12"
    },
    "colab": {
      "name": "csci2000u-project-group26.ipynb",
      "provenance": [],
      "collapsed_sections": [
        "zliWhEAqGjnZ"
      ]
    }
  },
  "cells": [
    {
      "cell_type": "markdown",
      "metadata": {
        "id": "e094b5c3"
      },
      "source": [
        "# CSCI 2000U - Scientific Data Analysis\n"
      ],
      "id": "e094b5c3"
    },
    {
      "cell_type": "markdown",
      "metadata": {
        "id": "6a7ba53f"
      },
      "source": [
        "## Introduction"
      ],
      "id": "6a7ba53f"
    },
    {
      "cell_type": "markdown",
      "metadata": {
        "id": "trsuocNl4sMy"
      },
      "source": [
        "As global suicide rates are increasing, we chose a dataset that provides enough data with a wide range of attributes that can demonstrate a correlation between key socio-economic factors (i.e., the status of particular groups) and suicide rates. Since this dataset provides socio-economic background for each nation on the basis of years, we can attribute increased/decreased sucicide rates among different groups within a particular time, generation, country, etc. Therefore, the collection of such data can demonstrate certain indicators of increased suicide rates, which is useful in the cause of suicide prevetion.\n",
        "\n",
        "### Team Member's Contributions:\n",
        "\n",
        "Yaksh Joshi - Worked on Global Deaths dataset (cleaning to EDA) and contributed to the readme.md\n",
        "<br>\n",
        "Olivia Ramos - Worked on discussion, potential data analysis, correlation matrix, generation distribution, gender-year line plot, country_avg dataframe, and top countries by suicide average bar chart\n",
        "<br>\n",
        "Umairuddin Mohammed - Worked on conclusion for jupyter notebook and readme.md\n",
        "<br>\n",
        "Ajaane Kanagasabai - Worked on Analysis of Data (including the cleaning and merging of the original dataset and continents dataset), and data visualization of world, continents and country data."
      ],
      "id": "trsuocNl4sMy"
    },
    {
      "cell_type": "markdown",
      "metadata": {
        "id": "ee6edfcf"
      },
      "source": [
        "## Description of Data"
      ],
      "id": "ee6edfcf"
    },
    {
      "cell_type": "markdown",
      "metadata": {
        "id": "75f83bf2"
      },
      "source": [
        "### The Dataset\n",
        "**Suicide Rates Overview 1985 to 2016**\n",
        "\n",
        "*Source: https://www.kaggle.com/russellyates88/suicide-rates-overview-1985-to-2016*\n",
        "\n",
        "This dataset contains the suicide rates of all the countries from 1985 to 2016.\n",
        "\n",
        "\n",
        "- country - Country in which data is from\n",
        "- year - The year in which the data is collected from\n",
        "- sex - Sex of the individual\n",
        "- age - Age of the individual (in age groups)\n",
        "- suicides_no - Number of suicides\n",
        "- population - Population of each country in 'country'\n",
        "- suicides/100k pop - Suicide rates per 100k of population\n",
        "- HDI for year - Human Develop Index of each year\n",
        "- gdp_for_year (\\\\$) - Gross Domestic Product of each year\n",
        "- gdp_per_capita (\\\\$) - Ratio between the country’s GDP and its population\n",
        "- generation - Generation that the individual is a part of\n",
        "\n",
        "<br>\n",
        "\n",
        "This dataset is a compilation of 4 other datsets which can be found here:\n",
        "United Nations Development Program. (2018). Human development index (HDI). Retrieved from http://hdr.undp.org/en/indicators/137506\n",
        "\n",
        "World Bank. (2018). World development indicators: GDP (current US$) by country:1985 to 2016. Retrieved from http://databank.worldbank.org/data/source/world-development-indicators#\n",
        "\n",
        "[Szamil]. (2017). Suicide in the Twenty-First Century [dataset]. Retrieved from https://www.kaggle.com/szamil/suicide-in-the-twenty-first-century/notebook\n",
        "\n",
        "World Health Organization. (2018). Suicide prevention. Retrieved from http://www.who.int/mental_health/suicide-prevention/en/"
      ],
      "id": "75f83bf2"
    },
    {
      "cell_type": "markdown",
      "metadata": {
        "id": "1d8de92a"
      },
      "source": [
        "## Analysis of Data"
      ],
      "id": "1d8de92a"
    },
    {
      "cell_type": "code",
      "metadata": {
        "colab": {
          "base_uri": "https://localhost:8080/"
        },
        "id": "d3b3e291",
        "outputId": "bb7009f9-2248-4fa6-b9a6-faf03db42097"
      },
      "source": [
        "#importing used libraries\n",
        "import csv\n",
        "import re\n",
        "import pandas as pd\n",
        "from pandas.api.types import CategoricalDtype\n",
        "from functools import reduce\n",
        "import numpy as np\n",
        "import calendar\n",
        "import datetime\n",
        "import string\n",
        "import matplotlib.pyplot as plt\n",
        "\n",
        "\n",
        "import sys\n",
        "!{sys.executable} -m pip install seaborn\n",
        "import seaborn as sns\n",
        "\n",
        "\n",
        "# reading the dataset from csv file using pandas\n",
        "data = pd.read_csv(\"master.csv\")\n",
        "    "
      ],
      "id": "d3b3e291",
      "execution_count": null,
      "outputs": [
        {
          "output_type": "stream",
          "name": "stdout",
          "text": [
            "Requirement already satisfied: seaborn in /usr/local/lib/python3.7/dist-packages (0.11.2)\n",
            "Requirement already satisfied: pandas>=0.23 in /usr/local/lib/python3.7/dist-packages (from seaborn) (1.1.5)\n",
            "Requirement already satisfied: matplotlib>=2.2 in /usr/local/lib/python3.7/dist-packages (from seaborn) (3.2.2)\n",
            "Requirement already satisfied: numpy>=1.15 in /usr/local/lib/python3.7/dist-packages (from seaborn) (1.19.5)\n",
            "Requirement already satisfied: scipy>=1.0 in /usr/local/lib/python3.7/dist-packages (from seaborn) (1.4.1)\n",
            "Requirement already satisfied: cycler>=0.10 in /usr/local/lib/python3.7/dist-packages (from matplotlib>=2.2->seaborn) (0.11.0)\n",
            "Requirement already satisfied: pyparsing!=2.0.4,!=2.1.2,!=2.1.6,>=2.0.1 in /usr/local/lib/python3.7/dist-packages (from matplotlib>=2.2->seaborn) (3.0.6)\n",
            "Requirement already satisfied: python-dateutil>=2.1 in /usr/local/lib/python3.7/dist-packages (from matplotlib>=2.2->seaborn) (2.8.2)\n",
            "Requirement already satisfied: kiwisolver>=1.0.1 in /usr/local/lib/python3.7/dist-packages (from matplotlib>=2.2->seaborn) (1.3.2)\n",
            "Requirement already satisfied: pytz>=2017.2 in /usr/local/lib/python3.7/dist-packages (from pandas>=0.23->seaborn) (2018.9)\n",
            "Requirement already satisfied: six>=1.5 in /usr/local/lib/python3.7/dist-packages (from python-dateutil>=2.1->matplotlib>=2.2->seaborn) (1.15.0)\n"
          ]
        }
      ]
    },
    {
      "cell_type": "markdown",
      "metadata": {
        "id": "dcf952fa"
      },
      "source": [
        "### Getting to know the data\n",
        "\n",
        "Displaying the first 5 records"
      ],
      "id": "dcf952fa"
    },
    {
      "cell_type": "code",
      "metadata": {
        "colab": {
          "base_uri": "https://localhost:8080/",
          "height": 206
        },
        "id": "73e997cd",
        "outputId": "1eade42e-ab86-417c-d784-5d173cf9d812"
      },
      "source": [
        "data.head(5)"
      ],
      "id": "73e997cd",
      "execution_count": null,
      "outputs": [
        {
          "output_type": "execute_result",
          "data": {
            "text/html": [
              "<div>\n",
              "<style scoped>\n",
              "    .dataframe tbody tr th:only-of-type {\n",
              "        vertical-align: middle;\n",
              "    }\n",
              "\n",
              "    .dataframe tbody tr th {\n",
              "        vertical-align: top;\n",
              "    }\n",
              "\n",
              "    .dataframe thead th {\n",
              "        text-align: right;\n",
              "    }\n",
              "</style>\n",
              "<table border=\"1\" class=\"dataframe\">\n",
              "  <thead>\n",
              "    <tr style=\"text-align: right;\">\n",
              "      <th></th>\n",
              "      <th>country</th>\n",
              "      <th>year</th>\n",
              "      <th>sex</th>\n",
              "      <th>age</th>\n",
              "      <th>suicides_no</th>\n",
              "      <th>population</th>\n",
              "      <th>suicides/100k pop</th>\n",
              "      <th>country-year</th>\n",
              "      <th>HDI for year</th>\n",
              "      <th>gdp_for_year ($)</th>\n",
              "      <th>gdp_per_capita ($)</th>\n",
              "      <th>generation</th>\n",
              "    </tr>\n",
              "  </thead>\n",
              "  <tbody>\n",
              "    <tr>\n",
              "      <th>0</th>\n",
              "      <td>Albania</td>\n",
              "      <td>1987</td>\n",
              "      <td>male</td>\n",
              "      <td>15-24 years</td>\n",
              "      <td>21</td>\n",
              "      <td>312900</td>\n",
              "      <td>6.71</td>\n",
              "      <td>Albania1987</td>\n",
              "      <td>NaN</td>\n",
              "      <td>2,156,624,900</td>\n",
              "      <td>796</td>\n",
              "      <td>Generation X</td>\n",
              "    </tr>\n",
              "    <tr>\n",
              "      <th>1</th>\n",
              "      <td>Albania</td>\n",
              "      <td>1987</td>\n",
              "      <td>male</td>\n",
              "      <td>35-54 years</td>\n",
              "      <td>16</td>\n",
              "      <td>308000</td>\n",
              "      <td>5.19</td>\n",
              "      <td>Albania1987</td>\n",
              "      <td>NaN</td>\n",
              "      <td>2,156,624,900</td>\n",
              "      <td>796</td>\n",
              "      <td>Silent</td>\n",
              "    </tr>\n",
              "    <tr>\n",
              "      <th>2</th>\n",
              "      <td>Albania</td>\n",
              "      <td>1987</td>\n",
              "      <td>female</td>\n",
              "      <td>15-24 years</td>\n",
              "      <td>14</td>\n",
              "      <td>289700</td>\n",
              "      <td>4.83</td>\n",
              "      <td>Albania1987</td>\n",
              "      <td>NaN</td>\n",
              "      <td>2,156,624,900</td>\n",
              "      <td>796</td>\n",
              "      <td>Generation X</td>\n",
              "    </tr>\n",
              "    <tr>\n",
              "      <th>3</th>\n",
              "      <td>Albania</td>\n",
              "      <td>1987</td>\n",
              "      <td>male</td>\n",
              "      <td>75+ years</td>\n",
              "      <td>1</td>\n",
              "      <td>21800</td>\n",
              "      <td>4.59</td>\n",
              "      <td>Albania1987</td>\n",
              "      <td>NaN</td>\n",
              "      <td>2,156,624,900</td>\n",
              "      <td>796</td>\n",
              "      <td>G.I. Generation</td>\n",
              "    </tr>\n",
              "    <tr>\n",
              "      <th>4</th>\n",
              "      <td>Albania</td>\n",
              "      <td>1987</td>\n",
              "      <td>male</td>\n",
              "      <td>25-34 years</td>\n",
              "      <td>9</td>\n",
              "      <td>274300</td>\n",
              "      <td>3.28</td>\n",
              "      <td>Albania1987</td>\n",
              "      <td>NaN</td>\n",
              "      <td>2,156,624,900</td>\n",
              "      <td>796</td>\n",
              "      <td>Boomers</td>\n",
              "    </tr>\n",
              "  </tbody>\n",
              "</table>\n",
              "</div>"
            ],
            "text/plain": [
              "   country  year  ... gdp_per_capita ($)       generation\n",
              "0  Albania  1987  ...                796     Generation X\n",
              "1  Albania  1987  ...                796           Silent\n",
              "2  Albania  1987  ...                796     Generation X\n",
              "3  Albania  1987  ...                796  G.I. Generation\n",
              "4  Albania  1987  ...                796          Boomers\n",
              "\n",
              "[5 rows x 12 columns]"
            ]
          },
          "metadata": {},
          "execution_count": 283
        }
      ]
    },
    {
      "cell_type": "code",
      "metadata": {
        "colab": {
          "base_uri": "https://localhost:8080/"
        },
        "id": "61a9b6c0",
        "outputId": "ba2a3988-cbae-4405-f38d-e009c21f4565"
      },
      "source": [
        "data.shape"
      ],
      "id": "61a9b6c0",
      "execution_count": null,
      "outputs": [
        {
          "output_type": "execute_result",
          "data": {
            "text/plain": [
              "(27820, 12)"
            ]
          },
          "metadata": {},
          "execution_count": 284
        }
      ]
    },
    {
      "cell_type": "markdown",
      "metadata": {
        "id": "68203495"
      },
      "source": [
        "As seen above, this dataset has 27820 records with 12 attributes.\n",
        "\n",
        "\n",
        "<br>\n",
        "<br>\n",
        "Basic numeric summary of the dataset attributes:"
      ],
      "id": "68203495"
    },
    {
      "cell_type": "code",
      "metadata": {
        "colab": {
          "base_uri": "https://localhost:8080/",
          "height": 300
        },
        "id": "0fda4291",
        "outputId": "f8bd2c75-643c-4739-a345-c91544c0132e"
      },
      "source": [
        "data.describe()"
      ],
      "id": "0fda4291",
      "execution_count": null,
      "outputs": [
        {
          "output_type": "execute_result",
          "data": {
            "text/html": [
              "<div>\n",
              "<style scoped>\n",
              "    .dataframe tbody tr th:only-of-type {\n",
              "        vertical-align: middle;\n",
              "    }\n",
              "\n",
              "    .dataframe tbody tr th {\n",
              "        vertical-align: top;\n",
              "    }\n",
              "\n",
              "    .dataframe thead th {\n",
              "        text-align: right;\n",
              "    }\n",
              "</style>\n",
              "<table border=\"1\" class=\"dataframe\">\n",
              "  <thead>\n",
              "    <tr style=\"text-align: right;\">\n",
              "      <th></th>\n",
              "      <th>year</th>\n",
              "      <th>suicides_no</th>\n",
              "      <th>population</th>\n",
              "      <th>suicides/100k pop</th>\n",
              "      <th>HDI for year</th>\n",
              "      <th>gdp_per_capita ($)</th>\n",
              "    </tr>\n",
              "  </thead>\n",
              "  <tbody>\n",
              "    <tr>\n",
              "      <th>count</th>\n",
              "      <td>27820.000000</td>\n",
              "      <td>27820.000000</td>\n",
              "      <td>2.782000e+04</td>\n",
              "      <td>27820.000000</td>\n",
              "      <td>8364.000000</td>\n",
              "      <td>27820.000000</td>\n",
              "    </tr>\n",
              "    <tr>\n",
              "      <th>mean</th>\n",
              "      <td>2001.258375</td>\n",
              "      <td>242.574407</td>\n",
              "      <td>1.844794e+06</td>\n",
              "      <td>12.816097</td>\n",
              "      <td>0.776601</td>\n",
              "      <td>16866.464414</td>\n",
              "    </tr>\n",
              "    <tr>\n",
              "      <th>std</th>\n",
              "      <td>8.469055</td>\n",
              "      <td>902.047917</td>\n",
              "      <td>3.911779e+06</td>\n",
              "      <td>18.961511</td>\n",
              "      <td>0.093367</td>\n",
              "      <td>18887.576472</td>\n",
              "    </tr>\n",
              "    <tr>\n",
              "      <th>min</th>\n",
              "      <td>1985.000000</td>\n",
              "      <td>0.000000</td>\n",
              "      <td>2.780000e+02</td>\n",
              "      <td>0.000000</td>\n",
              "      <td>0.483000</td>\n",
              "      <td>251.000000</td>\n",
              "    </tr>\n",
              "    <tr>\n",
              "      <th>25%</th>\n",
              "      <td>1995.000000</td>\n",
              "      <td>3.000000</td>\n",
              "      <td>9.749850e+04</td>\n",
              "      <td>0.920000</td>\n",
              "      <td>0.713000</td>\n",
              "      <td>3447.000000</td>\n",
              "    </tr>\n",
              "    <tr>\n",
              "      <th>50%</th>\n",
              "      <td>2002.000000</td>\n",
              "      <td>25.000000</td>\n",
              "      <td>4.301500e+05</td>\n",
              "      <td>5.990000</td>\n",
              "      <td>0.779000</td>\n",
              "      <td>9372.000000</td>\n",
              "    </tr>\n",
              "    <tr>\n",
              "      <th>75%</th>\n",
              "      <td>2008.000000</td>\n",
              "      <td>131.000000</td>\n",
              "      <td>1.486143e+06</td>\n",
              "      <td>16.620000</td>\n",
              "      <td>0.855000</td>\n",
              "      <td>24874.000000</td>\n",
              "    </tr>\n",
              "    <tr>\n",
              "      <th>max</th>\n",
              "      <td>2016.000000</td>\n",
              "      <td>22338.000000</td>\n",
              "      <td>4.380521e+07</td>\n",
              "      <td>224.970000</td>\n",
              "      <td>0.944000</td>\n",
              "      <td>126352.000000</td>\n",
              "    </tr>\n",
              "  </tbody>\n",
              "</table>\n",
              "</div>"
            ],
            "text/plain": [
              "               year   suicides_no  ...  HDI for year  gdp_per_capita ($)\n",
              "count  27820.000000  27820.000000  ...   8364.000000        27820.000000\n",
              "mean    2001.258375    242.574407  ...      0.776601        16866.464414\n",
              "std        8.469055    902.047917  ...      0.093367        18887.576472\n",
              "min     1985.000000      0.000000  ...      0.483000          251.000000\n",
              "25%     1995.000000      3.000000  ...      0.713000         3447.000000\n",
              "50%     2002.000000     25.000000  ...      0.779000         9372.000000\n",
              "75%     2008.000000    131.000000  ...      0.855000        24874.000000\n",
              "max     2016.000000  22338.000000  ...      0.944000       126352.000000\n",
              "\n",
              "[8 rows x 6 columns]"
            ]
          },
          "metadata": {},
          "execution_count": 285
        }
      ]
    },
    {
      "cell_type": "code",
      "metadata": {
        "colab": {
          "base_uri": "https://localhost:8080/"
        },
        "id": "4bd8d33b",
        "outputId": "0e39cb18-4705-4189-bb7f-8aa9ac871fe4"
      },
      "source": [
        "\n",
        "print(\"The dataset has data from the year\", data['year'].sort_index(ascending=True)[0], \"to\", data['year'].sort_index(ascending=True).values[-1]) "
      ],
      "id": "4bd8d33b",
      "execution_count": null,
      "outputs": [
        {
          "output_type": "stream",
          "name": "stdout",
          "text": [
            "The dataset has data from the year 1987 to 2014\n"
          ]
        }
      ]
    },
    {
      "cell_type": "code",
      "metadata": {
        "colab": {
          "base_uri": "https://localhost:8080/"
        },
        "id": "d4024ec5",
        "outputId": "2383b6fe-b93b-456a-be1e-4b45def2bf1a"
      },
      "source": [
        "print(\"There are\", data['country'].nunique(), \"unique countries represented in this dataset.\")"
      ],
      "id": "d4024ec5",
      "execution_count": null,
      "outputs": [
        {
          "output_type": "stream",
          "name": "stdout",
          "text": [
            "There are 101 unique countries represented in this dataset.\n"
          ]
        }
      ]
    },
    {
      "cell_type": "code",
      "metadata": {
        "colab": {
          "base_uri": "https://localhost:8080/"
        },
        "id": "6cd09109",
        "outputId": "66a0d55a-9a89-40a3-b722-97e7bf4778c9"
      },
      "source": [
        "print(\"There are\", data['age'].nunique(), \"unique age groups represented in this dataset. They are\", np.unique(data['age'].values))"
      ],
      "id": "6cd09109",
      "execution_count": null,
      "outputs": [
        {
          "output_type": "stream",
          "name": "stdout",
          "text": [
            "There are 6 unique age groups represented in this dataset. They are ['15-24 years' '25-34 years' '35-54 years' '5-14 years' '55-74 years'\n",
            " '75+ years']\n"
          ]
        }
      ]
    },
    {
      "cell_type": "code",
      "metadata": {
        "colab": {
          "base_uri": "https://localhost:8080/"
        },
        "id": "f97f3643",
        "outputId": "df0e5b11-79d1-47cc-c279-fc34c87ce24d"
      },
      "source": [
        "print(\"There are\", data['generation'].nunique(), \"unique generations represented in this dataset. They are\", np.unique(data['generation'].values))"
      ],
      "id": "f97f3643",
      "execution_count": null,
      "outputs": [
        {
          "output_type": "stream",
          "name": "stdout",
          "text": [
            "There are 6 unique generations represented in this dataset. They are ['Boomers' 'G.I. Generation' 'Generation X' 'Generation Z' 'Millenials'\n",
            " 'Silent']\n"
          ]
        }
      ]
    },
    {
      "cell_type": "code",
      "metadata": {
        "colab": {
          "base_uri": "https://localhost:8080/",
          "height": 593
        },
        "id": "PXEJ9Hdm-Kvd",
        "outputId": "12544962-8c81-42fc-d0e3-bcce5b422761"
      },
      "source": [
        "def plot_matrix(df, size):\n",
        "    df = df.dropna('columns')\n",
        "    c_plot = df.corr()\n",
        "    plt.figure(figsize = (size, size))\n",
        "    c_mat = plt.matshow(c_plot, fignum = 1)\n",
        "    plt.xticks(range(len(c_plot.columns)), c_plot.columns, rotation=20)\n",
        "    plt.yticks(range(len(c_plot.columns)), c_plot.columns)\n",
        "    plt.colorbar(c_mat)\n",
        "    plt.show()\n",
        "plot_matrix(data, 10)"
      ],
      "id": "PXEJ9Hdm-Kvd",
      "execution_count": null,
      "outputs": [
        {
          "output_type": "display_data",
          "data": {
            "image/png": "[encoded data removed]",
            "text/plain": [
              "<Figure size 720x720 with 2 Axes>"
            ]
          },
          "metadata": {
            "needs_background": "light"
          }
        }
      ]
    },
    {
      "cell_type": "markdown",
      "metadata": {
        "id": "TVnqmujU-1eq"
      },
      "source": [
        "From the correlation matrix, we can see that there is a weak correlation between most the of variables in regards to 'suicides_no' (number of suicides) and 'suicides/100k pop' (suicides per 100k of the population). The exception to this is when comparing these variables to population. As expected, a greater population will yield a higher suicide rates. In addition, there seems to be a slight positive increase in the correlation between these two variables (suicide rates) and the GDP per capita. Does an increase in GDP mean higher suicide rates? First, let's analyze the distribution of generation:"
      ],
      "id": "TVnqmujU-1eq"
    },
    {
      "cell_type": "code",
      "metadata": {
        "colab": {
          "base_uri": "https://localhost:8080/",
          "height": 476
        },
        "id": "1qnA7f7hAVqn",
        "outputId": "1645a5f0-0c51-481d-8dea-8545ebd3a268"
      },
      "source": [
        "gen_count = data['generation'].value_counts(ascending=True)\n",
        "gen_count.plot.barh(title='Distribution of Generation', figsize=(10, 7)).set(xlabel='Count', ylabel='Generation')"
      ],
      "id": "1qnA7f7hAVqn",
      "execution_count": null,
      "outputs": [
        {
          "output_type": "execute_result",
          "data": {
            "text/plain": [
              "[Text(0, 0.5, 'Generation'), Text(0.5, 0, 'Count')]"
            ]
          },
          "metadata": {},
          "execution_count": 291
        },
        {
          "output_type": "display_data",
          "data": {
            "image/png": "[encoded data removed]",
            "text/plain": [
              "<Figure size 720x504 with 1 Axes>"
            ]
          },
          "metadata": {
            "needs_background": "light"
          }
        }
      ]
    },
    {
      "cell_type": "markdown",
      "metadata": {
        "id": "d69e5b8f"
      },
      "source": [
        "### Cleaning the Dataset\n",
        "\n",
        "***Tasks***\n",
        "<br>\n",
        "1) Rename columns\n",
        "<br>\n",
        "2) Filter out countries and year(s) with 0 data\n",
        "<br>\n",
        "3) Reorder age groups in chronological order\n",
        "<br>\n",
        "4) Remove country-year (not needed/redundant)\n",
        "<br> \n",
        "5) Remove HDI for year (too much missing data to use)\n",
        "<br>\n",
        "6) Fix names of countries to match other dataset (add continents)"
      ],
      "id": "d69e5b8f"
    },
    {
      "cell_type": "markdown",
      "metadata": {
        "id": "bf7d9999"
      },
      "source": [
        "***Renaming columns***"
      ],
      "id": "bf7d9999"
    },
    {
      "cell_type": "code",
      "metadata": {
        "colab": {
          "base_uri": "https://localhost:8080/",
          "height": 206
        },
        "id": "b2722846",
        "outputId": "2264155d-6f6d-4b2f-a6ca-917998c3039c"
      },
      "source": [
        "data = data.rename(columns={'country':'Country','year':'Year','sex':'Gender','age':'Age',\n",
        "                          'suicides_no':'Suicide No.','population':'Population','suicides/100k pop':'Suicides/100k Pop',\n",
        "                          'country-year':'CountryYear','HDI for year':'HDI For Year',' gdp_for_year ($) ':'GDP For Year',\n",
        "                          'gdp_per_capita ($)':'GDP Per Capita','generation':'Generation'})\n",
        "data.head(5)"
      ],
      "id": "b2722846",
      "execution_count": null,
      "outputs": [
        {
          "output_type": "execute_result",
          "data": {
            "text/html": [
              "<div>\n",
              "<style scoped>\n",
              "    .dataframe tbody tr th:only-of-type {\n",
              "        vertical-align: middle;\n",
              "    }\n",
              "\n",
              "    .dataframe tbody tr th {\n",
              "        vertical-align: top;\n",
              "    }\n",
              "\n",
              "    .dataframe thead th {\n",
              "        text-align: right;\n",
              "    }\n",
              "</style>\n",
              "<table border=\"1\" class=\"dataframe\">\n",
              "  <thead>\n",
              "    <tr style=\"text-align: right;\">\n",
              "      <th></th>\n",
              "      <th>Country</th>\n",
              "      <th>Year</th>\n",
              "      <th>Gender</th>\n",
              "      <th>Age</th>\n",
              "      <th>Suicide No.</th>\n",
              "      <th>Population</th>\n",
              "      <th>Suicides/100k Pop</th>\n",
              "      <th>CountryYear</th>\n",
              "      <th>HDI For Year</th>\n",
              "      <th>GDP For Year</th>\n",
              "      <th>GDP Per Capita</th>\n",
              "      <th>Generation</th>\n",
              "    </tr>\n",
              "  </thead>\n",
              "  <tbody>\n",
              "    <tr>\n",
              "      <th>0</th>\n",
              "      <td>Albania</td>\n",
              "      <td>1987</td>\n",
              "      <td>male</td>\n",
              "      <td>15-24 years</td>\n",
              "      <td>21</td>\n",
              "      <td>312900</td>\n",
              "      <td>6.71</td>\n",
              "      <td>Albania1987</td>\n",
              "      <td>NaN</td>\n",
              "      <td>2,156,624,900</td>\n",
              "      <td>796</td>\n",
              "      <td>Generation X</td>\n",
              "    </tr>\n",
              "    <tr>\n",
              "      <th>1</th>\n",
              "      <td>Albania</td>\n",
              "      <td>1987</td>\n",
              "      <td>male</td>\n",
              "      <td>35-54 years</td>\n",
              "      <td>16</td>\n",
              "      <td>308000</td>\n",
              "      <td>5.19</td>\n",
              "      <td>Albania1987</td>\n",
              "      <td>NaN</td>\n",
              "      <td>2,156,624,900</td>\n",
              "      <td>796</td>\n",
              "      <td>Silent</td>\n",
              "    </tr>\n",
              "    <tr>\n",
              "      <th>2</th>\n",
              "      <td>Albania</td>\n",
              "      <td>1987</td>\n",
              "      <td>female</td>\n",
              "      <td>15-24 years</td>\n",
              "      <td>14</td>\n",
              "      <td>289700</td>\n",
              "      <td>4.83</td>\n",
              "      <td>Albania1987</td>\n",
              "      <td>NaN</td>\n",
              "      <td>2,156,624,900</td>\n",
              "      <td>796</td>\n",
              "      <td>Generation X</td>\n",
              "    </tr>\n",
              "    <tr>\n",
              "      <th>3</th>\n",
              "      <td>Albania</td>\n",
              "      <td>1987</td>\n",
              "      <td>male</td>\n",
              "      <td>75+ years</td>\n",
              "      <td>1</td>\n",
              "      <td>21800</td>\n",
              "      <td>4.59</td>\n",
              "      <td>Albania1987</td>\n",
              "      <td>NaN</td>\n",
              "      <td>2,156,624,900</td>\n",
              "      <td>796</td>\n",
              "      <td>G.I. Generation</td>\n",
              "    </tr>\n",
              "    <tr>\n",
              "      <th>4</th>\n",
              "      <td>Albania</td>\n",
              "      <td>1987</td>\n",
              "      <td>male</td>\n",
              "      <td>25-34 years</td>\n",
              "      <td>9</td>\n",
              "      <td>274300</td>\n",
              "      <td>3.28</td>\n",
              "      <td>Albania1987</td>\n",
              "      <td>NaN</td>\n",
              "      <td>2,156,624,900</td>\n",
              "      <td>796</td>\n",
              "      <td>Boomers</td>\n",
              "    </tr>\n",
              "  </tbody>\n",
              "</table>\n",
              "</div>"
            ],
            "text/plain": [
              "   Country  Year  Gender  ...   GDP For Year  GDP Per Capita       Generation\n",
              "0  Albania  1987    male  ...  2,156,624,900             796     Generation X\n",
              "1  Albania  1987    male  ...  2,156,624,900             796           Silent\n",
              "2  Albania  1987  female  ...  2,156,624,900             796     Generation X\n",
              "3  Albania  1987    male  ...  2,156,624,900             796  G.I. Generation\n",
              "4  Albania  1987    male  ...  2,156,624,900             796          Boomers\n",
              "\n",
              "[5 rows x 12 columns]"
            ]
          },
          "metadata": {},
          "execution_count": 292
        }
      ]
    },
    {
      "cell_type": "markdown",
      "metadata": {
        "id": "924e116f"
      },
      "source": [
        "***Filtering out countries/years with no data*** <br>\n",
        "Bahamas, Dominica, Saint Kitts and Nevis, Saint Vincent and Grenadines were removed because of the lack of data. Any data from 2016 was also removed."
      ],
      "id": "924e116f"
    },
    {
      "cell_type": "code",
      "metadata": {
        "id": "fa295174"
      },
      "source": [
        "data.drop(data[data.Country == 'Bahamas'].index, inplace = True)\n",
        "data.drop(data[data.Country == 'Dominica'].index, inplace = True)\n",
        "data.drop(data[data.Country == 'Saint Kitts and Nevis'].index, inplace = True)\n",
        "data.drop(data[data.Country == 'Saint Vincent and Grenadines'].index, inplace = True)\n",
        "data.drop(data[data.Year == '2016'].index, inplace = True)"
      ],
      "id": "fa295174",
      "execution_count": null,
      "outputs": []
    },
    {
      "cell_type": "markdown",
      "metadata": {
        "id": "95715386"
      },
      "source": [
        "***Reordering age groups in chronological order:***"
      ],
      "id": "95715386"
    },
    {
      "cell_type": "code",
      "metadata": {
        "colab": {
          "base_uri": "https://localhost:8080/",
          "height": 363
        },
        "id": "ed2c0e98",
        "outputId": "73cc0305-667b-440f-8206-4fcd3623c3be"
      },
      "source": [
        "age_order = ['5-14 years', '15-24 years', '25-34 years', '35-54 years', '55-74 years', '75+ years']\n",
        "data[\"Age\"] = pd.Categorical(data[\"Age\"], categories=age_order) \n",
        "data.sort_values(by = ['Country', 'Year', 'Gender', 'Age'], inplace = True)\n",
        "data.head(10)"
      ],
      "id": "ed2c0e98",
      "execution_count": null,
      "outputs": [
        {
          "output_type": "execute_result",
          "data": {
            "text/html": [
              "<div>\n",
              "<style scoped>\n",
              "    .dataframe tbody tr th:only-of-type {\n",
              "        vertical-align: middle;\n",
              "    }\n",
              "\n",
              "    .dataframe tbody tr th {\n",
              "        vertical-align: top;\n",
              "    }\n",
              "\n",
              "    .dataframe thead th {\n",
              "        text-align: right;\n",
              "    }\n",
              "</style>\n",
              "<table border=\"1\" class=\"dataframe\">\n",
              "  <thead>\n",
              "    <tr style=\"text-align: right;\">\n",
              "      <th></th>\n",
              "      <th>Country</th>\n",
              "      <th>Year</th>\n",
              "      <th>Gender</th>\n",
              "      <th>Age</th>\n",
              "      <th>Suicide No.</th>\n",
              "      <th>Population</th>\n",
              "      <th>Suicides/100k Pop</th>\n",
              "      <th>CountryYear</th>\n",
              "      <th>HDI For Year</th>\n",
              "      <th>GDP For Year</th>\n",
              "      <th>GDP Per Capita</th>\n",
              "      <th>Generation</th>\n",
              "    </tr>\n",
              "  </thead>\n",
              "  <tbody>\n",
              "    <tr>\n",
              "      <th>9</th>\n",
              "      <td>Albania</td>\n",
              "      <td>1987</td>\n",
              "      <td>female</td>\n",
              "      <td>5-14 years</td>\n",
              "      <td>0</td>\n",
              "      <td>311000</td>\n",
              "      <td>0.00</td>\n",
              "      <td>Albania1987</td>\n",
              "      <td>NaN</td>\n",
              "      <td>2,156,624,900</td>\n",
              "      <td>796</td>\n",
              "      <td>Generation X</td>\n",
              "    </tr>\n",
              "    <tr>\n",
              "      <th>2</th>\n",
              "      <td>Albania</td>\n",
              "      <td>1987</td>\n",
              "      <td>female</td>\n",
              "      <td>15-24 years</td>\n",
              "      <td>14</td>\n",
              "      <td>289700</td>\n",
              "      <td>4.83</td>\n",
              "      <td>Albania1987</td>\n",
              "      <td>NaN</td>\n",
              "      <td>2,156,624,900</td>\n",
              "      <td>796</td>\n",
              "      <td>Generation X</td>\n",
              "    </tr>\n",
              "    <tr>\n",
              "      <th>7</th>\n",
              "      <td>Albania</td>\n",
              "      <td>1987</td>\n",
              "      <td>female</td>\n",
              "      <td>25-34 years</td>\n",
              "      <td>4</td>\n",
              "      <td>257200</td>\n",
              "      <td>1.56</td>\n",
              "      <td>Albania1987</td>\n",
              "      <td>NaN</td>\n",
              "      <td>2,156,624,900</td>\n",
              "      <td>796</td>\n",
              "      <td>Boomers</td>\n",
              "    </tr>\n",
              "    <tr>\n",
              "      <th>6</th>\n",
              "      <td>Albania</td>\n",
              "      <td>1987</td>\n",
              "      <td>female</td>\n",
              "      <td>35-54 years</td>\n",
              "      <td>6</td>\n",
              "      <td>278800</td>\n",
              "      <td>2.15</td>\n",
              "      <td>Albania1987</td>\n",
              "      <td>NaN</td>\n",
              "      <td>2,156,624,900</td>\n",
              "      <td>796</td>\n",
              "      <td>Silent</td>\n",
              "    </tr>\n",
              "    <tr>\n",
              "      <th>10</th>\n",
              "      <td>Albania</td>\n",
              "      <td>1987</td>\n",
              "      <td>female</td>\n",
              "      <td>55-74 years</td>\n",
              "      <td>0</td>\n",
              "      <td>144600</td>\n",
              "      <td>0.00</td>\n",
              "      <td>Albania1987</td>\n",
              "      <td>NaN</td>\n",
              "      <td>2,156,624,900</td>\n",
              "      <td>796</td>\n",
              "      <td>G.I. Generation</td>\n",
              "    </tr>\n",
              "    <tr>\n",
              "      <th>5</th>\n",
              "      <td>Albania</td>\n",
              "      <td>1987</td>\n",
              "      <td>female</td>\n",
              "      <td>75+ years</td>\n",
              "      <td>1</td>\n",
              "      <td>35600</td>\n",
              "      <td>2.81</td>\n",
              "      <td>Albania1987</td>\n",
              "      <td>NaN</td>\n",
              "      <td>2,156,624,900</td>\n",
              "      <td>796</td>\n",
              "      <td>G.I. Generation</td>\n",
              "    </tr>\n",
              "    <tr>\n",
              "      <th>11</th>\n",
              "      <td>Albania</td>\n",
              "      <td>1987</td>\n",
              "      <td>male</td>\n",
              "      <td>5-14 years</td>\n",
              "      <td>0</td>\n",
              "      <td>338200</td>\n",
              "      <td>0.00</td>\n",
              "      <td>Albania1987</td>\n",
              "      <td>NaN</td>\n",
              "      <td>2,156,624,900</td>\n",
              "      <td>796</td>\n",
              "      <td>Generation X</td>\n",
              "    </tr>\n",
              "    <tr>\n",
              "      <th>0</th>\n",
              "      <td>Albania</td>\n",
              "      <td>1987</td>\n",
              "      <td>male</td>\n",
              "      <td>15-24 years</td>\n",
              "      <td>21</td>\n",
              "      <td>312900</td>\n",
              "      <td>6.71</td>\n",
              "      <td>Albania1987</td>\n",
              "      <td>NaN</td>\n",
              "      <td>2,156,624,900</td>\n",
              "      <td>796</td>\n",
              "      <td>Generation X</td>\n",
              "    </tr>\n",
              "    <tr>\n",
              "      <th>4</th>\n",
              "      <td>Albania</td>\n",
              "      <td>1987</td>\n",
              "      <td>male</td>\n",
              "      <td>25-34 years</td>\n",
              "      <td>9</td>\n",
              "      <td>274300</td>\n",
              "      <td>3.28</td>\n",
              "      <td>Albania1987</td>\n",
              "      <td>NaN</td>\n",
              "      <td>2,156,624,900</td>\n",
              "      <td>796</td>\n",
              "      <td>Boomers</td>\n",
              "    </tr>\n",
              "    <tr>\n",
              "      <th>1</th>\n",
              "      <td>Albania</td>\n",
              "      <td>1987</td>\n",
              "      <td>male</td>\n",
              "      <td>35-54 years</td>\n",
              "      <td>16</td>\n",
              "      <td>308000</td>\n",
              "      <td>5.19</td>\n",
              "      <td>Albania1987</td>\n",
              "      <td>NaN</td>\n",
              "      <td>2,156,624,900</td>\n",
              "      <td>796</td>\n",
              "      <td>Silent</td>\n",
              "    </tr>\n",
              "  </tbody>\n",
              "</table>\n",
              "</div>"
            ],
            "text/plain": [
              "    Country  Year  Gender  ...   GDP For Year  GDP Per Capita       Generation\n",
              "9   Albania  1987  female  ...  2,156,624,900             796     Generation X\n",
              "2   Albania  1987  female  ...  2,156,624,900             796     Generation X\n",
              "7   Albania  1987  female  ...  2,156,624,900             796          Boomers\n",
              "6   Albania  1987  female  ...  2,156,624,900             796           Silent\n",
              "10  Albania  1987  female  ...  2,156,624,900             796  G.I. Generation\n",
              "5   Albania  1987  female  ...  2,156,624,900             796  G.I. Generation\n",
              "11  Albania  1987    male  ...  2,156,624,900             796     Generation X\n",
              "0   Albania  1987    male  ...  2,156,624,900             796     Generation X\n",
              "4   Albania  1987    male  ...  2,156,624,900             796          Boomers\n",
              "1   Albania  1987    male  ...  2,156,624,900             796           Silent\n",
              "\n",
              "[10 rows x 12 columns]"
            ]
          },
          "metadata": {},
          "execution_count": 294
        }
      ]
    },
    {
      "cell_type": "code",
      "metadata": {
        "colab": {
          "base_uri": "https://localhost:8080/"
        },
        "id": "7c878bbb",
        "outputId": "92d8c879-c1b3-4ab6-acda-09872408c127"
      },
      "source": [
        "data.isnull().sum()"
      ],
      "id": "7c878bbb",
      "execution_count": null,
      "outputs": [
        {
          "output_type": "execute_result",
          "data": {
            "text/plain": [
              "Country                  0\n",
              "Year                     0\n",
              "Gender                   0\n",
              "Age                      0\n",
              "Suicide No.              0\n",
              "Population               0\n",
              "Suicides/100k Pop        0\n",
              "CountryYear              0\n",
              "HDI For Year         18988\n",
              "GDP For Year             0\n",
              "GDP Per Capita           0\n",
              "Generation               0\n",
              "dtype: int64"
            ]
          },
          "metadata": {},
          "execution_count": 295
        }
      ]
    },
    {
      "cell_type": "markdown",
      "metadata": {
        "id": "6a95f719"
      },
      "source": [
        "***Removing HDI For Year and CountryYear*** <br>\n",
        "Since 'HDI For Year' is missing so much data, we decided to remove it. CountryYear is being removed because it is redundant."
      ],
      "id": "6a95f719"
    },
    {
      "cell_type": "code",
      "metadata": {
        "colab": {
          "base_uri": "https://localhost:8080/",
          "height": 206
        },
        "id": "360752d7",
        "outputId": "759e7afa-af58-440a-daa6-cced3e50642b"
      },
      "source": [
        "data=data.drop(['HDI For Year','CountryYear'],axis=1)\n",
        "data.head(5)"
      ],
      "id": "360752d7",
      "execution_count": null,
      "outputs": [
        {
          "output_type": "execute_result",
          "data": {
            "text/html": [
              "<div>\n",
              "<style scoped>\n",
              "    .dataframe tbody tr th:only-of-type {\n",
              "        vertical-align: middle;\n",
              "    }\n",
              "\n",
              "    .dataframe tbody tr th {\n",
              "        vertical-align: top;\n",
              "    }\n",
              "\n",
              "    .dataframe thead th {\n",
              "        text-align: right;\n",
              "    }\n",
              "</style>\n",
              "<table border=\"1\" class=\"dataframe\">\n",
              "  <thead>\n",
              "    <tr style=\"text-align: right;\">\n",
              "      <th></th>\n",
              "      <th>Country</th>\n",
              "      <th>Year</th>\n",
              "      <th>Gender</th>\n",
              "      <th>Age</th>\n",
              "      <th>Suicide No.</th>\n",
              "      <th>Population</th>\n",
              "      <th>Suicides/100k Pop</th>\n",
              "      <th>GDP For Year</th>\n",
              "      <th>GDP Per Capita</th>\n",
              "      <th>Generation</th>\n",
              "    </tr>\n",
              "  </thead>\n",
              "  <tbody>\n",
              "    <tr>\n",
              "      <th>9</th>\n",
              "      <td>Albania</td>\n",
              "      <td>1987</td>\n",
              "      <td>female</td>\n",
              "      <td>5-14 years</td>\n",
              "      <td>0</td>\n",
              "      <td>311000</td>\n",
              "      <td>0.00</td>\n",
              "      <td>2,156,624,900</td>\n",
              "      <td>796</td>\n",
              "      <td>Generation X</td>\n",
              "    </tr>\n",
              "    <tr>\n",
              "      <th>2</th>\n",
              "      <td>Albania</td>\n",
              "      <td>1987</td>\n",
              "      <td>female</td>\n",
              "      <td>15-24 years</td>\n",
              "      <td>14</td>\n",
              "      <td>289700</td>\n",
              "      <td>4.83</td>\n",
              "      <td>2,156,624,900</td>\n",
              "      <td>796</td>\n",
              "      <td>Generation X</td>\n",
              "    </tr>\n",
              "    <tr>\n",
              "      <th>7</th>\n",
              "      <td>Albania</td>\n",
              "      <td>1987</td>\n",
              "      <td>female</td>\n",
              "      <td>25-34 years</td>\n",
              "      <td>4</td>\n",
              "      <td>257200</td>\n",
              "      <td>1.56</td>\n",
              "      <td>2,156,624,900</td>\n",
              "      <td>796</td>\n",
              "      <td>Boomers</td>\n",
              "    </tr>\n",
              "    <tr>\n",
              "      <th>6</th>\n",
              "      <td>Albania</td>\n",
              "      <td>1987</td>\n",
              "      <td>female</td>\n",
              "      <td>35-54 years</td>\n",
              "      <td>6</td>\n",
              "      <td>278800</td>\n",
              "      <td>2.15</td>\n",
              "      <td>2,156,624,900</td>\n",
              "      <td>796</td>\n",
              "      <td>Silent</td>\n",
              "    </tr>\n",
              "    <tr>\n",
              "      <th>10</th>\n",
              "      <td>Albania</td>\n",
              "      <td>1987</td>\n",
              "      <td>female</td>\n",
              "      <td>55-74 years</td>\n",
              "      <td>0</td>\n",
              "      <td>144600</td>\n",
              "      <td>0.00</td>\n",
              "      <td>2,156,624,900</td>\n",
              "      <td>796</td>\n",
              "      <td>G.I. Generation</td>\n",
              "    </tr>\n",
              "  </tbody>\n",
              "</table>\n",
              "</div>"
            ],
            "text/plain": [
              "    Country  Year  Gender  ...   GDP For Year  GDP Per Capita       Generation\n",
              "9   Albania  1987  female  ...  2,156,624,900             796     Generation X\n",
              "2   Albania  1987  female  ...  2,156,624,900             796     Generation X\n",
              "7   Albania  1987  female  ...  2,156,624,900             796          Boomers\n",
              "6   Albania  1987  female  ...  2,156,624,900             796           Silent\n",
              "10  Albania  1987  female  ...  2,156,624,900             796  G.I. Generation\n",
              "\n",
              "[5 rows x 10 columns]"
            ]
          },
          "metadata": {},
          "execution_count": 296
        }
      ]
    },
    {
      "cell_type": "markdown",
      "metadata": {
        "id": "1756c81f"
      },
      "source": [
        "### Supplementary Dataset <br>\n",
        "#### **Country to Continent**\n",
        "<br> \n",
        "Source: https://www.kaggle.com/statchaitya/country-to-continent\n",
        "\n",
        "This dataset contains information on countries, including the continent and sub-region it belongs to. <br>\n",
        "\n",
        "- country - Country the data belongs to.\n",
        "- code_2 - 2 letter country code\n",
        "- code_3 - Alternative 3 letter country code\n",
        "- country_code - Numeric country code\n",
        "- iso_3166_2 - ISO 3166 Standard\n",
        "- continent - Continent the country belongs to \n",
        "- sub_region - Subregion the country belongs o\n",
        "- region_code - Numeric region code\n",
        "- sub_region_code - Numeric subregion code\n",
        "\n",
        "<br>\n",
        "Let's take a look at the first 5 records."
      ],
      "id": "1756c81f"
    },
    {
      "cell_type": "code",
      "metadata": {
        "scrolled": true,
        "colab": {
          "base_uri": "https://localhost:8080/",
          "height": 206
        },
        "id": "ef003df6",
        "outputId": "e91a07d2-5514-4872-dea2-0208255ae23d"
      },
      "source": [
        "continent = pd.read_csv(\"countryContinent.csv\", encoding=\"ISO-8859-1\")\n",
        "continent.head()"
      ],
      "id": "ef003df6",
      "execution_count": null,
      "outputs": [
        {
          "output_type": "execute_result",
          "data": {
            "text/html": [
              "<div>\n",
              "<style scoped>\n",
              "    .dataframe tbody tr th:only-of-type {\n",
              "        vertical-align: middle;\n",
              "    }\n",
              "\n",
              "    .dataframe tbody tr th {\n",
              "        vertical-align: top;\n",
              "    }\n",
              "\n",
              "    .dataframe thead th {\n",
              "        text-align: right;\n",
              "    }\n",
              "</style>\n",
              "<table border=\"1\" class=\"dataframe\">\n",
              "  <thead>\n",
              "    <tr style=\"text-align: right;\">\n",
              "      <th></th>\n",
              "      <th>country</th>\n",
              "      <th>code_2</th>\n",
              "      <th>code_3</th>\n",
              "      <th>country_code</th>\n",
              "      <th>iso_3166_2</th>\n",
              "      <th>continent</th>\n",
              "      <th>sub_region</th>\n",
              "      <th>region_code</th>\n",
              "      <th>sub_region_code</th>\n",
              "    </tr>\n",
              "  </thead>\n",
              "  <tbody>\n",
              "    <tr>\n",
              "      <th>0</th>\n",
              "      <td>Afghanistan</td>\n",
              "      <td>AF</td>\n",
              "      <td>AFG</td>\n",
              "      <td>4</td>\n",
              "      <td>ISO 3166-2:AF</td>\n",
              "      <td>Asia</td>\n",
              "      <td>Southern Asia</td>\n",
              "      <td>142.0</td>\n",
              "      <td>34.0</td>\n",
              "    </tr>\n",
              "    <tr>\n",
              "      <th>1</th>\n",
              "      <td>Åland Islands</td>\n",
              "      <td>AX</td>\n",
              "      <td>ALA</td>\n",
              "      <td>248</td>\n",
              "      <td>ISO 3166-2:AX</td>\n",
              "      <td>Europe</td>\n",
              "      <td>Northern Europe</td>\n",
              "      <td>150.0</td>\n",
              "      <td>154.0</td>\n",
              "    </tr>\n",
              "    <tr>\n",
              "      <th>2</th>\n",
              "      <td>Albania</td>\n",
              "      <td>AL</td>\n",
              "      <td>ALB</td>\n",
              "      <td>8</td>\n",
              "      <td>ISO 3166-2:AL</td>\n",
              "      <td>Europe</td>\n",
              "      <td>Southern Europe</td>\n",
              "      <td>150.0</td>\n",
              "      <td>39.0</td>\n",
              "    </tr>\n",
              "    <tr>\n",
              "      <th>3</th>\n",
              "      <td>Algeria</td>\n",
              "      <td>DZ</td>\n",
              "      <td>DZA</td>\n",
              "      <td>12</td>\n",
              "      <td>ISO 3166-2:DZ</td>\n",
              "      <td>Africa</td>\n",
              "      <td>Northern Africa</td>\n",
              "      <td>2.0</td>\n",
              "      <td>15.0</td>\n",
              "    </tr>\n",
              "    <tr>\n",
              "      <th>4</th>\n",
              "      <td>American Samoa</td>\n",
              "      <td>AS</td>\n",
              "      <td>ASM</td>\n",
              "      <td>16</td>\n",
              "      <td>ISO 3166-2:AS</td>\n",
              "      <td>Oceania</td>\n",
              "      <td>Polynesia</td>\n",
              "      <td>9.0</td>\n",
              "      <td>61.0</td>\n",
              "    </tr>\n",
              "  </tbody>\n",
              "</table>\n",
              "</div>"
            ],
            "text/plain": [
              "          country code_2 code_3  ...       sub_region region_code sub_region_code\n",
              "0     Afghanistan     AF    AFG  ...    Southern Asia       142.0            34.0\n",
              "1   Åland Islands     AX    ALA  ...  Northern Europe       150.0           154.0\n",
              "2         Albania     AL    ALB  ...  Southern Europe       150.0            39.0\n",
              "3         Algeria     DZ    DZA  ...  Northern Africa         2.0            15.0\n",
              "4  American Samoa     AS    ASM  ...        Polynesia         9.0            61.0\n",
              "\n",
              "[5 rows x 9 columns]"
            ]
          },
          "metadata": {},
          "execution_count": 297
        }
      ]
    },
    {
      "cell_type": "code",
      "metadata": {
        "colab": {
          "base_uri": "https://localhost:8080/",
          "height": 206
        },
        "id": "4f7efb91",
        "outputId": "7c6ff2c2-384b-45f4-ba7a-54cfa954c407"
      },
      "source": [
        "continent = continent.rename(columns={'country':'Country','code_2': 'Code 2', 'code_3': 'Code 3', 'country_code': 'Country code',\n",
        "                                      'iso_3166_2': 'ISO','continent':'Continent', 'sub_region':'Subregion', \n",
        "                                     'region_code':'Region code', 'sub_region_code': 'Subregion code'})\n",
        "continent.head()"
      ],
      "id": "4f7efb91",
      "execution_count": null,
      "outputs": [
        {
          "output_type": "execute_result",
          "data": {
            "text/html": [
              "<div>\n",
              "<style scoped>\n",
              "    .dataframe tbody tr th:only-of-type {\n",
              "        vertical-align: middle;\n",
              "    }\n",
              "\n",
              "    .dataframe tbody tr th {\n",
              "        vertical-align: top;\n",
              "    }\n",
              "\n",
              "    .dataframe thead th {\n",
              "        text-align: right;\n",
              "    }\n",
              "</style>\n",
              "<table border=\"1\" class=\"dataframe\">\n",
              "  <thead>\n",
              "    <tr style=\"text-align: right;\">\n",
              "      <th></th>\n",
              "      <th>Country</th>\n",
              "      <th>Code 2</th>\n",
              "      <th>Code 3</th>\n",
              "      <th>Country code</th>\n",
              "      <th>ISO</th>\n",
              "      <th>Continent</th>\n",
              "      <th>Subregion</th>\n",
              "      <th>Region code</th>\n",
              "      <th>Subregion code</th>\n",
              "    </tr>\n",
              "  </thead>\n",
              "  <tbody>\n",
              "    <tr>\n",
              "      <th>0</th>\n",
              "      <td>Afghanistan</td>\n",
              "      <td>AF</td>\n",
              "      <td>AFG</td>\n",
              "      <td>4</td>\n",
              "      <td>ISO 3166-2:AF</td>\n",
              "      <td>Asia</td>\n",
              "      <td>Southern Asia</td>\n",
              "      <td>142.0</td>\n",
              "      <td>34.0</td>\n",
              "    </tr>\n",
              "    <tr>\n",
              "      <th>1</th>\n",
              "      <td>Åland Islands</td>\n",
              "      <td>AX</td>\n",
              "      <td>ALA</td>\n",
              "      <td>248</td>\n",
              "      <td>ISO 3166-2:AX</td>\n",
              "      <td>Europe</td>\n",
              "      <td>Northern Europe</td>\n",
              "      <td>150.0</td>\n",
              "      <td>154.0</td>\n",
              "    </tr>\n",
              "    <tr>\n",
              "      <th>2</th>\n",
              "      <td>Albania</td>\n",
              "      <td>AL</td>\n",
              "      <td>ALB</td>\n",
              "      <td>8</td>\n",
              "      <td>ISO 3166-2:AL</td>\n",
              "      <td>Europe</td>\n",
              "      <td>Southern Europe</td>\n",
              "      <td>150.0</td>\n",
              "      <td>39.0</td>\n",
              "    </tr>\n",
              "    <tr>\n",
              "      <th>3</th>\n",
              "      <td>Algeria</td>\n",
              "      <td>DZ</td>\n",
              "      <td>DZA</td>\n",
              "      <td>12</td>\n",
              "      <td>ISO 3166-2:DZ</td>\n",
              "      <td>Africa</td>\n",
              "      <td>Northern Africa</td>\n",
              "      <td>2.0</td>\n",
              "      <td>15.0</td>\n",
              "    </tr>\n",
              "    <tr>\n",
              "      <th>4</th>\n",
              "      <td>American Samoa</td>\n",
              "      <td>AS</td>\n",
              "      <td>ASM</td>\n",
              "      <td>16</td>\n",
              "      <td>ISO 3166-2:AS</td>\n",
              "      <td>Oceania</td>\n",
              "      <td>Polynesia</td>\n",
              "      <td>9.0</td>\n",
              "      <td>61.0</td>\n",
              "    </tr>\n",
              "  </tbody>\n",
              "</table>\n",
              "</div>"
            ],
            "text/plain": [
              "          Country Code 2 Code 3  ...        Subregion Region code Subregion code\n",
              "0     Afghanistan     AF    AFG  ...    Southern Asia       142.0           34.0\n",
              "1   Åland Islands     AX    ALA  ...  Northern Europe       150.0          154.0\n",
              "2         Albania     AL    ALB  ...  Southern Europe       150.0           39.0\n",
              "3         Algeria     DZ    DZA  ...  Northern Africa         2.0           15.0\n",
              "4  American Samoa     AS    ASM  ...        Polynesia         9.0           61.0\n",
              "\n",
              "[5 rows x 9 columns]"
            ]
          },
          "metadata": {},
          "execution_count": 298
        }
      ]
    },
    {
      "cell_type": "markdown",
      "metadata": {
        "id": "37c4ee73"
      },
      "source": [
        "We only need the country, continent and subregion so we can drop the rest of the columns"
      ],
      "id": "37c4ee73"
    },
    {
      "cell_type": "code",
      "metadata": {
        "colab": {
          "base_uri": "https://localhost:8080/",
          "height": 206
        },
        "id": "213bbf0c",
        "outputId": "75a62d67-f57f-4d63-c01e-06dcba5e8642"
      },
      "source": [
        "continent = continent.drop(['Code 2','Code 3', 'Country code', 'ISO', 'Region code', 'Subregion code'], axis = 1)\n",
        "continent.head()"
      ],
      "id": "213bbf0c",
      "execution_count": null,
      "outputs": [
        {
          "output_type": "execute_result",
          "data": {
            "text/html": [
              "<div>\n",
              "<style scoped>\n",
              "    .dataframe tbody tr th:only-of-type {\n",
              "        vertical-align: middle;\n",
              "    }\n",
              "\n",
              "    .dataframe tbody tr th {\n",
              "        vertical-align: top;\n",
              "    }\n",
              "\n",
              "    .dataframe thead th {\n",
              "        text-align: right;\n",
              "    }\n",
              "</style>\n",
              "<table border=\"1\" class=\"dataframe\">\n",
              "  <thead>\n",
              "    <tr style=\"text-align: right;\">\n",
              "      <th></th>\n",
              "      <th>Country</th>\n",
              "      <th>Continent</th>\n",
              "      <th>Subregion</th>\n",
              "    </tr>\n",
              "  </thead>\n",
              "  <tbody>\n",
              "    <tr>\n",
              "      <th>0</th>\n",
              "      <td>Afghanistan</td>\n",
              "      <td>Asia</td>\n",
              "      <td>Southern Asia</td>\n",
              "    </tr>\n",
              "    <tr>\n",
              "      <th>1</th>\n",
              "      <td>Åland Islands</td>\n",
              "      <td>Europe</td>\n",
              "      <td>Northern Europe</td>\n",
              "    </tr>\n",
              "    <tr>\n",
              "      <th>2</th>\n",
              "      <td>Albania</td>\n",
              "      <td>Europe</td>\n",
              "      <td>Southern Europe</td>\n",
              "    </tr>\n",
              "    <tr>\n",
              "      <th>3</th>\n",
              "      <td>Algeria</td>\n",
              "      <td>Africa</td>\n",
              "      <td>Northern Africa</td>\n",
              "    </tr>\n",
              "    <tr>\n",
              "      <th>4</th>\n",
              "      <td>American Samoa</td>\n",
              "      <td>Oceania</td>\n",
              "      <td>Polynesia</td>\n",
              "    </tr>\n",
              "  </tbody>\n",
              "</table>\n",
              "</div>"
            ],
            "text/plain": [
              "          Country Continent        Subregion\n",
              "0     Afghanistan      Asia    Southern Asia\n",
              "1   Åland Islands    Europe  Northern Europe\n",
              "2         Albania    Europe  Southern Europe\n",
              "3         Algeria    Africa  Northern Africa\n",
              "4  American Samoa   Oceania        Polynesia"
            ]
          },
          "metadata": {},
          "execution_count": 299
        }
      ]
    },
    {
      "cell_type": "markdown",
      "metadata": {
        "id": "d3ca7b81"
      },
      "source": [
        "***Fixing country names*** <br>\n",
        "Need to fix country names to merge 2 datasets"
      ],
      "id": "d3ca7b81"
    },
    {
      "cell_type": "code",
      "metadata": {
        "id": "83498b93"
      },
      "source": [
        "data['Country'] = data['Country'].apply(lambda x: 'United States of America' if x == 'United States' else x)\n",
        "continent['Country'] = continent['Country'].apply(lambda x: 'Republic of Korea' if x == 'Korea (Republic of)' else x)\n",
        "continent['Country'] = continent['Country'].apply(lambda x: 'Democratic People\\'s Republic of Korea' \n",
        "                                                  if x == 'Korea (Democratic People\\'s Republic of)' else x)"
      ],
      "id": "83498b93",
      "execution_count": null,
      "outputs": []
    },
    {
      "cell_type": "markdown",
      "metadata": {
        "id": "540cfbc8"
      },
      "source": [
        "Now we can merge the two datasets together:"
      ],
      "id": "540cfbc8"
    },
    {
      "cell_type": "code",
      "metadata": {
        "colab": {
          "base_uri": "https://localhost:8080/",
          "height": 206
        },
        "id": "0a2f500e",
        "outputId": "898c9d65-f182-43d5-ea74-78a6c451ddc2"
      },
      "source": [
        "df = pd.merge(data, continent, left_on=['Country'], right_on=['Country'])\n",
        "df.head()"
      ],
      "id": "0a2f500e",
      "execution_count": null,
      "outputs": [
        {
          "output_type": "execute_result",
          "data": {
            "text/html": [
              "<div>\n",
              "<style scoped>\n",
              "    .dataframe tbody tr th:only-of-type {\n",
              "        vertical-align: middle;\n",
              "    }\n",
              "\n",
              "    .dataframe tbody tr th {\n",
              "        vertical-align: top;\n",
              "    }\n",
              "\n",
              "    .dataframe thead th {\n",
              "        text-align: right;\n",
              "    }\n",
              "</style>\n",
              "<table border=\"1\" class=\"dataframe\">\n",
              "  <thead>\n",
              "    <tr style=\"text-align: right;\">\n",
              "      <th></th>\n",
              "      <th>Country</th>\n",
              "      <th>Year</th>\n",
              "      <th>Gender</th>\n",
              "      <th>Age</th>\n",
              "      <th>Suicide No.</th>\n",
              "      <th>Population</th>\n",
              "      <th>Suicides/100k Pop</th>\n",
              "      <th>GDP For Year</th>\n",
              "      <th>GDP Per Capita</th>\n",
              "      <th>Generation</th>\n",
              "      <th>Continent</th>\n",
              "      <th>Subregion</th>\n",
              "    </tr>\n",
              "  </thead>\n",
              "  <tbody>\n",
              "    <tr>\n",
              "      <th>0</th>\n",
              "      <td>Albania</td>\n",
              "      <td>1987</td>\n",
              "      <td>female</td>\n",
              "      <td>5-14 years</td>\n",
              "      <td>0</td>\n",
              "      <td>311000</td>\n",
              "      <td>0.00</td>\n",
              "      <td>2,156,624,900</td>\n",
              "      <td>796</td>\n",
              "      <td>Generation X</td>\n",
              "      <td>Europe</td>\n",
              "      <td>Southern Europe</td>\n",
              "    </tr>\n",
              "    <tr>\n",
              "      <th>1</th>\n",
              "      <td>Albania</td>\n",
              "      <td>1987</td>\n",
              "      <td>female</td>\n",
              "      <td>15-24 years</td>\n",
              "      <td>14</td>\n",
              "      <td>289700</td>\n",
              "      <td>4.83</td>\n",
              "      <td>2,156,624,900</td>\n",
              "      <td>796</td>\n",
              "      <td>Generation X</td>\n",
              "      <td>Europe</td>\n",
              "      <td>Southern Europe</td>\n",
              "    </tr>\n",
              "    <tr>\n",
              "      <th>2</th>\n",
              "      <td>Albania</td>\n",
              "      <td>1987</td>\n",
              "      <td>female</td>\n",
              "      <td>25-34 years</td>\n",
              "      <td>4</td>\n",
              "      <td>257200</td>\n",
              "      <td>1.56</td>\n",
              "      <td>2,156,624,900</td>\n",
              "      <td>796</td>\n",
              "      <td>Boomers</td>\n",
              "      <td>Europe</td>\n",
              "      <td>Southern Europe</td>\n",
              "    </tr>\n",
              "    <tr>\n",
              "      <th>3</th>\n",
              "      <td>Albania</td>\n",
              "      <td>1987</td>\n",
              "      <td>female</td>\n",
              "      <td>35-54 years</td>\n",
              "      <td>6</td>\n",
              "      <td>278800</td>\n",
              "      <td>2.15</td>\n",
              "      <td>2,156,624,900</td>\n",
              "      <td>796</td>\n",
              "      <td>Silent</td>\n",
              "      <td>Europe</td>\n",
              "      <td>Southern Europe</td>\n",
              "    </tr>\n",
              "    <tr>\n",
              "      <th>4</th>\n",
              "      <td>Albania</td>\n",
              "      <td>1987</td>\n",
              "      <td>female</td>\n",
              "      <td>55-74 years</td>\n",
              "      <td>0</td>\n",
              "      <td>144600</td>\n",
              "      <td>0.00</td>\n",
              "      <td>2,156,624,900</td>\n",
              "      <td>796</td>\n",
              "      <td>G.I. Generation</td>\n",
              "      <td>Europe</td>\n",
              "      <td>Southern Europe</td>\n",
              "    </tr>\n",
              "  </tbody>\n",
              "</table>\n",
              "</div>"
            ],
            "text/plain": [
              "   Country  Year  Gender  ...       Generation  Continent        Subregion\n",
              "0  Albania  1987  female  ...     Generation X     Europe  Southern Europe\n",
              "1  Albania  1987  female  ...     Generation X     Europe  Southern Europe\n",
              "2  Albania  1987  female  ...          Boomers     Europe  Southern Europe\n",
              "3  Albania  1987  female  ...           Silent     Europe  Southern Europe\n",
              "4  Albania  1987  female  ...  G.I. Generation     Europe  Southern Europe\n",
              "\n",
              "[5 rows x 12 columns]"
            ]
          },
          "metadata": {},
          "execution_count": 301
        }
      ]
    },
    {
      "cell_type": "markdown",
      "metadata": {
        "id": "927eee11"
      },
      "source": [
        "Rearranging the order of columns for the newly merged dataframe:"
      ],
      "id": "927eee11"
    },
    {
      "cell_type": "code",
      "metadata": {
        "colab": {
          "base_uri": "https://localhost:8080/",
          "height": 206
        },
        "id": "58613ec0",
        "outputId": "390e7af3-800c-46cd-9f8a-4fd6a1238001"
      },
      "source": [
        "df = df[['Year', 'Continent','Subregion','Country','Gender','Age', 'Suicide No.', 'Population', 'Suicides/100k Pop', \n",
        "         'Generation','GDP For Year','GDP Per Capita']]\n",
        "df.head()"
      ],
      "id": "58613ec0",
      "execution_count": null,
      "outputs": [
        {
          "output_type": "execute_result",
          "data": {
            "text/html": [
              "<div>\n",
              "<style scoped>\n",
              "    .dataframe tbody tr th:only-of-type {\n",
              "        vertical-align: middle;\n",
              "    }\n",
              "\n",
              "    .dataframe tbody tr th {\n",
              "        vertical-align: top;\n",
              "    }\n",
              "\n",
              "    .dataframe thead th {\n",
              "        text-align: right;\n",
              "    }\n",
              "</style>\n",
              "<table border=\"1\" class=\"dataframe\">\n",
              "  <thead>\n",
              "    <tr style=\"text-align: right;\">\n",
              "      <th></th>\n",
              "      <th>Year</th>\n",
              "      <th>Continent</th>\n",
              "      <th>Subregion</th>\n",
              "      <th>Country</th>\n",
              "      <th>Gender</th>\n",
              "      <th>Age</th>\n",
              "      <th>Suicide No.</th>\n",
              "      <th>Population</th>\n",
              "      <th>Suicides/100k Pop</th>\n",
              "      <th>Generation</th>\n",
              "      <th>GDP For Year</th>\n",
              "      <th>GDP Per Capita</th>\n",
              "    </tr>\n",
              "  </thead>\n",
              "  <tbody>\n",
              "    <tr>\n",
              "      <th>0</th>\n",
              "      <td>1987</td>\n",
              "      <td>Europe</td>\n",
              "      <td>Southern Europe</td>\n",
              "      <td>Albania</td>\n",
              "      <td>female</td>\n",
              "      <td>5-14 years</td>\n",
              "      <td>0</td>\n",
              "      <td>311000</td>\n",
              "      <td>0.00</td>\n",
              "      <td>Generation X</td>\n",
              "      <td>2,156,624,900</td>\n",
              "      <td>796</td>\n",
              "    </tr>\n",
              "    <tr>\n",
              "      <th>1</th>\n",
              "      <td>1987</td>\n",
              "      <td>Europe</td>\n",
              "      <td>Southern Europe</td>\n",
              "      <td>Albania</td>\n",
              "      <td>female</td>\n",
              "      <td>15-24 years</td>\n",
              "      <td>14</td>\n",
              "      <td>289700</td>\n",
              "      <td>4.83</td>\n",
              "      <td>Generation X</td>\n",
              "      <td>2,156,624,900</td>\n",
              "      <td>796</td>\n",
              "    </tr>\n",
              "    <tr>\n",
              "      <th>2</th>\n",
              "      <td>1987</td>\n",
              "      <td>Europe</td>\n",
              "      <td>Southern Europe</td>\n",
              "      <td>Albania</td>\n",
              "      <td>female</td>\n",
              "      <td>25-34 years</td>\n",
              "      <td>4</td>\n",
              "      <td>257200</td>\n",
              "      <td>1.56</td>\n",
              "      <td>Boomers</td>\n",
              "      <td>2,156,624,900</td>\n",
              "      <td>796</td>\n",
              "    </tr>\n",
              "    <tr>\n",
              "      <th>3</th>\n",
              "      <td>1987</td>\n",
              "      <td>Europe</td>\n",
              "      <td>Southern Europe</td>\n",
              "      <td>Albania</td>\n",
              "      <td>female</td>\n",
              "      <td>35-54 years</td>\n",
              "      <td>6</td>\n",
              "      <td>278800</td>\n",
              "      <td>2.15</td>\n",
              "      <td>Silent</td>\n",
              "      <td>2,156,624,900</td>\n",
              "      <td>796</td>\n",
              "    </tr>\n",
              "    <tr>\n",
              "      <th>4</th>\n",
              "      <td>1987</td>\n",
              "      <td>Europe</td>\n",
              "      <td>Southern Europe</td>\n",
              "      <td>Albania</td>\n",
              "      <td>female</td>\n",
              "      <td>55-74 years</td>\n",
              "      <td>0</td>\n",
              "      <td>144600</td>\n",
              "      <td>0.00</td>\n",
              "      <td>G.I. Generation</td>\n",
              "      <td>2,156,624,900</td>\n",
              "      <td>796</td>\n",
              "    </tr>\n",
              "  </tbody>\n",
              "</table>\n",
              "</div>"
            ],
            "text/plain": [
              "   Year Continent  ...   GDP For Year GDP Per Capita\n",
              "0  1987    Europe  ...  2,156,624,900            796\n",
              "1  1987    Europe  ...  2,156,624,900            796\n",
              "2  1987    Europe  ...  2,156,624,900            796\n",
              "3  1987    Europe  ...  2,156,624,900            796\n",
              "4  1987    Europe  ...  2,156,624,900            796\n",
              "\n",
              "[5 rows x 12 columns]"
            ]
          },
          "metadata": {},
          "execution_count": 302
        }
      ]
    },
    {
      "cell_type": "markdown",
      "metadata": {
        "id": "uebrG84Wq1tg"
      },
      "source": [
        "Dropping rows with no data on Suicide No. nor Suicides/100k Pop:"
      ],
      "id": "uebrG84Wq1tg"
    },
    {
      "cell_type": "code",
      "metadata": {
        "colab": {
          "base_uri": "https://localhost:8080/",
          "height": 206
        },
        "id": "sU0VeaRCrA93",
        "outputId": "6fd3fa7a-5057-445e-e3d4-c94d23d533c3"
      },
      "source": [
        "def check_if_drop(x, y):\n",
        "    if (x == 0 and y == 0.00):\n",
        "        return True\n",
        "    else:\n",
        "        return False\n",
        "    \n",
        "df['Drop'] = df.apply(lambda x: check_if_drop(x['Suicide No.'], x['Suicides/100k Pop']), axis = 1)\n",
        "df.drop(df.index[df['Drop'] == True], inplace=True)\n",
        "df.drop('Drop', axis = 1, inplace = True)\n",
        "df.head()"
      ],
      "id": "sU0VeaRCrA93",
      "execution_count": null,
      "outputs": [
        {
          "output_type": "execute_result",
          "data": {
            "text/html": [
              "<div>\n",
              "<style scoped>\n",
              "    .dataframe tbody tr th:only-of-type {\n",
              "        vertical-align: middle;\n",
              "    }\n",
              "\n",
              "    .dataframe tbody tr th {\n",
              "        vertical-align: top;\n",
              "    }\n",
              "\n",
              "    .dataframe thead th {\n",
              "        text-align: right;\n",
              "    }\n",
              "</style>\n",
              "<table border=\"1\" class=\"dataframe\">\n",
              "  <thead>\n",
              "    <tr style=\"text-align: right;\">\n",
              "      <th></th>\n",
              "      <th>Year</th>\n",
              "      <th>Continent</th>\n",
              "      <th>Subregion</th>\n",
              "      <th>Country</th>\n",
              "      <th>Gender</th>\n",
              "      <th>Age</th>\n",
              "      <th>Suicide No.</th>\n",
              "      <th>Population</th>\n",
              "      <th>Suicides/100k Pop</th>\n",
              "      <th>Generation</th>\n",
              "      <th>GDP For Year</th>\n",
              "      <th>GDP Per Capita</th>\n",
              "    </tr>\n",
              "  </thead>\n",
              "  <tbody>\n",
              "    <tr>\n",
              "      <th>1</th>\n",
              "      <td>1987</td>\n",
              "      <td>Europe</td>\n",
              "      <td>Southern Europe</td>\n",
              "      <td>Albania</td>\n",
              "      <td>female</td>\n",
              "      <td>15-24 years</td>\n",
              "      <td>14</td>\n",
              "      <td>289700</td>\n",
              "      <td>4.83</td>\n",
              "      <td>Generation X</td>\n",
              "      <td>2,156,624,900</td>\n",
              "      <td>796</td>\n",
              "    </tr>\n",
              "    <tr>\n",
              "      <th>2</th>\n",
              "      <td>1987</td>\n",
              "      <td>Europe</td>\n",
              "      <td>Southern Europe</td>\n",
              "      <td>Albania</td>\n",
              "      <td>female</td>\n",
              "      <td>25-34 years</td>\n",
              "      <td>4</td>\n",
              "      <td>257200</td>\n",
              "      <td>1.56</td>\n",
              "      <td>Boomers</td>\n",
              "      <td>2,156,624,900</td>\n",
              "      <td>796</td>\n",
              "    </tr>\n",
              "    <tr>\n",
              "      <th>3</th>\n",
              "      <td>1987</td>\n",
              "      <td>Europe</td>\n",
              "      <td>Southern Europe</td>\n",
              "      <td>Albania</td>\n",
              "      <td>female</td>\n",
              "      <td>35-54 years</td>\n",
              "      <td>6</td>\n",
              "      <td>278800</td>\n",
              "      <td>2.15</td>\n",
              "      <td>Silent</td>\n",
              "      <td>2,156,624,900</td>\n",
              "      <td>796</td>\n",
              "    </tr>\n",
              "    <tr>\n",
              "      <th>5</th>\n",
              "      <td>1987</td>\n",
              "      <td>Europe</td>\n",
              "      <td>Southern Europe</td>\n",
              "      <td>Albania</td>\n",
              "      <td>female</td>\n",
              "      <td>75+ years</td>\n",
              "      <td>1</td>\n",
              "      <td>35600</td>\n",
              "      <td>2.81</td>\n",
              "      <td>G.I. Generation</td>\n",
              "      <td>2,156,624,900</td>\n",
              "      <td>796</td>\n",
              "    </tr>\n",
              "    <tr>\n",
              "      <th>7</th>\n",
              "      <td>1987</td>\n",
              "      <td>Europe</td>\n",
              "      <td>Southern Europe</td>\n",
              "      <td>Albania</td>\n",
              "      <td>male</td>\n",
              "      <td>15-24 years</td>\n",
              "      <td>21</td>\n",
              "      <td>312900</td>\n",
              "      <td>6.71</td>\n",
              "      <td>Generation X</td>\n",
              "      <td>2,156,624,900</td>\n",
              "      <td>796</td>\n",
              "    </tr>\n",
              "  </tbody>\n",
              "</table>\n",
              "</div>"
            ],
            "text/plain": [
              "   Year Continent  ...   GDP For Year GDP Per Capita\n",
              "1  1987    Europe  ...  2,156,624,900            796\n",
              "2  1987    Europe  ...  2,156,624,900            796\n",
              "3  1987    Europe  ...  2,156,624,900            796\n",
              "5  1987    Europe  ...  2,156,624,900            796\n",
              "7  1987    Europe  ...  2,156,624,900            796\n",
              "\n",
              "[5 rows x 12 columns]"
            ]
          },
          "metadata": {},
          "execution_count": 303
        }
      ]
    },
    {
      "cell_type": "markdown",
      "metadata": {
        "id": "zliWhEAqGjnZ"
      },
      "source": [
        "#### **Global Death Cause**\n",
        "\n",
        "Source: https://www.kaggle.com/tahminashoaib86/global-cause-of-the-deaths-other-than-diseases?select=Caused+of+Deaths.csv\n",
        "\n",
        "This dataset shows the Global Cause of death other than diseases\n",
        "\n",
        "Description of data\n",
        "\n",
        "\n",
        "*   Country: Contains the Names of the Country\n",
        "*   ISO_CODE: Is the ISO-3 country identification code\n",
        "*   Year: Year of the number of Deaths\n",
        "*   Deaths: Total death of the individuals (including both male and female)\n",
        "*   Cause: Cause of the death such as Conflict and Terrorism\n",
        "*   Male POP: Male Population with given Country\n",
        "*   Female POP: Female Population within given country\n",
        "*   Total Pop: Total Population with each country\n",
        "*   GDP: GDP (current US\\$)\n",
        "*   PCAP: GDP per capita (current US\\$)\n",
        "\n"
      ],
      "id": "zliWhEAqGjnZ"
    },
    {
      "cell_type": "markdown",
      "metadata": {
        "id": "KhjqOcgzJ58f"
      },
      "source": [
        "The first 5 records"
      ],
      "id": "KhjqOcgzJ58f"
    },
    {
      "cell_type": "code",
      "metadata": {
        "colab": {
          "base_uri": "https://localhost:8080/"
        },
        "id": "6fUattB1Ia_z",
        "outputId": "f1382191-b29b-4138-ff03-aec677bdee19"
      },
      "source": [
        "deaths = pd.read_csv(\"Caused of Deaths.csv\", encoding=\"ISO-8859-1\")\n",
        "deaths.head()"
      ],
      "id": "6fUattB1Ia_z",
      "execution_count": null,
      "outputs": [
        {
          "output_type": "execute_result",
          "data": {
            "text/html": [
              "<div>\n",
              "<style scoped>\n",
              "    .dataframe tbody tr th:only-of-type {\n",
              "        vertical-align: middle;\n",
              "    }\n",
              "\n",
              "    .dataframe tbody tr th {\n",
              "        vertical-align: top;\n",
              "    }\n",
              "\n",
              "    .dataframe thead th {\n",
              "        text-align: right;\n",
              "    }\n",
              "</style>\n",
              "<table border=\"1\" class=\"dataframe\">\n",
              "  <thead>\n",
              "    <tr style=\"text-align: right;\">\n",
              "      <th></th>\n",
              "      <th>Country</th>\n",
              "      <th>ISO_CODE</th>\n",
              "      <th>Year</th>\n",
              "      <th>Deaths</th>\n",
              "      <th>Cause</th>\n",
              "      <th>Male POP</th>\n",
              "      <th>Female POP</th>\n",
              "      <th>Total Pop</th>\n",
              "      <th>GDP</th>\n",
              "      <th>PCAP</th>\n",
              "    </tr>\n",
              "  </thead>\n",
              "  <tbody>\n",
              "    <tr>\n",
              "      <th>0</th>\n",
              "      <td>Afghanistan</td>\n",
              "      <td>AFG</td>\n",
              "      <td>1980</td>\n",
              "      <td>35000</td>\n",
              "      <td>Conflict and Terrorism</td>\n",
              "      <td>6788279.0</td>\n",
              "      <td>6568232.0</td>\n",
              "      <td>13356511.0</td>\n",
              "      <td>3.641723e+09</td>\n",
              "      <td>272.655286</td>\n",
              "    </tr>\n",
              "    <tr>\n",
              "      <th>1</th>\n",
              "      <td>Albania</td>\n",
              "      <td>ALB</td>\n",
              "      <td>1980</td>\n",
              "      <td>0</td>\n",
              "      <td>Conflict and Terrorism</td>\n",
              "      <td>1371795.0</td>\n",
              "      <td>1300202.0</td>\n",
              "      <td>2671997.0</td>\n",
              "      <td>NaN</td>\n",
              "      <td>NaN</td>\n",
              "    </tr>\n",
              "    <tr>\n",
              "      <th>2</th>\n",
              "      <td>Algeria</td>\n",
              "      <td>DZA</td>\n",
              "      <td>1980</td>\n",
              "      <td>0</td>\n",
              "      <td>Conflict and Terrorism</td>\n",
              "      <td>9682121.0</td>\n",
              "      <td>9539544.0</td>\n",
              "      <td>19221665.0</td>\n",
              "      <td>4.234528e+10</td>\n",
              "      <td>2202.997365</td>\n",
              "    </tr>\n",
              "    <tr>\n",
              "      <th>3</th>\n",
              "      <td>American Samoa</td>\n",
              "      <td>ASM</td>\n",
              "      <td>1980</td>\n",
              "      <td>0</td>\n",
              "      <td>Conflict and Terrorism</td>\n",
              "      <td>NaN</td>\n",
              "      <td>NaN</td>\n",
              "      <td>NaN</td>\n",
              "      <td>NaN</td>\n",
              "      <td>NaN</td>\n",
              "    </tr>\n",
              "    <tr>\n",
              "      <th>4</th>\n",
              "      <td>Angola</td>\n",
              "      <td>AGO</td>\n",
              "      <td>1980</td>\n",
              "      <td>5882</td>\n",
              "      <td>Conflict and Terrorism</td>\n",
              "      <td>4226098.0</td>\n",
              "      <td>4115191.0</td>\n",
              "      <td>8341289.0</td>\n",
              "      <td>5.930503e+09</td>\n",
              "      <td>710.981648</td>\n",
              "    </tr>\n",
              "  </tbody>\n",
              "</table>\n",
              "</div>"
            ],
            "text/plain": [
              "          Country ISO_CODE  Year  ...   Total Pop           GDP         PCAP\n",
              "0     Afghanistan      AFG  1980  ...  13356511.0  3.641723e+09   272.655286\n",
              "1         Albania      ALB  1980  ...   2671997.0           NaN          NaN\n",
              "2         Algeria      DZA  1980  ...  19221665.0  4.234528e+10  2202.997365\n",
              "3  American Samoa      ASM  1980  ...         NaN           NaN          NaN\n",
              "4          Angola      AGO  1980  ...   8341289.0  5.930503e+09   710.981648\n",
              "\n",
              "[5 rows x 10 columns]"
            ]
          },
          "metadata": {},
          "execution_count": 304
        }
      ]
    },
    {
      "cell_type": "markdown",
      "metadata": {
        "id": "yqj-I4w0TvfW"
      },
      "source": [
        "Major Causes of death, we will be focusing on for this dataset"
      ],
      "id": "yqj-I4w0TvfW"
    },
    {
      "cell_type": "code",
      "metadata": {
        "colab": {
          "base_uri": "https://localhost:8080/"
        },
        "id": "mLi35rdGT37i",
        "outputId": "840c281e-23d6-4a20-d2bb-e31908878ba5"
      },
      "source": [
        "deaths.Cause.unique()"
      ],
      "id": "mLi35rdGT37i",
      "execution_count": null,
      "outputs": [
        {
          "output_type": "execute_result",
          "data": {
            "text/plain": [
              "array(['Conflict and Terrorism', 'Epidemics', 'Famine',\n",
              "       'Natural Disaster', 'Other Injuries'], dtype=object)"
            ]
          },
          "metadata": {},
          "execution_count": 305
        }
      ]
    },
    {
      "cell_type": "markdown",
      "metadata": {
        "id": "5C5Vd7BUKZFE"
      },
      "source": [
        "We will be only adding Country, Year, Deaths and Cause to our new dataframe as we want to compare the deaths with the suicides."
      ],
      "id": "5C5Vd7BUKZFE"
    },
    {
      "cell_type": "code",
      "metadata": {
        "colab": {
          "base_uri": "https://localhost:8080/"
        },
        "id": "q59agqdUKoPQ",
        "outputId": "378da0b3-da74-48ab-ff45-ded57bbc37b7"
      },
      "source": [
        "deaths = deaths.drop(['ISO_CODE', 'Male POP', 'Female POP', 'Total Pop', 'GDP', 'PCAP'], axis = 1)\n",
        "deaths.head()"
      ],
      "id": "q59agqdUKoPQ",
      "execution_count": null,
      "outputs": [
        {
          "output_type": "execute_result",
          "data": {
            "text/html": [
              "<div>\n",
              "<style scoped>\n",
              "    .dataframe tbody tr th:only-of-type {\n",
              "        vertical-align: middle;\n",
              "    }\n",
              "\n",
              "    .dataframe tbody tr th {\n",
              "        vertical-align: top;\n",
              "    }\n",
              "\n",
              "    .dataframe thead th {\n",
              "        text-align: right;\n",
              "    }\n",
              "</style>\n",
              "<table border=\"1\" class=\"dataframe\">\n",
              "  <thead>\n",
              "    <tr style=\"text-align: right;\">\n",
              "      <th></th>\n",
              "      <th>Country</th>\n",
              "      <th>Year</th>\n",
              "      <th>Deaths</th>\n",
              "      <th>Cause</th>\n",
              "    </tr>\n",
              "  </thead>\n",
              "  <tbody>\n",
              "    <tr>\n",
              "      <th>0</th>\n",
              "      <td>Afghanistan</td>\n",
              "      <td>1980</td>\n",
              "      <td>35000</td>\n",
              "      <td>Conflict and Terrorism</td>\n",
              "    </tr>\n",
              "    <tr>\n",
              "      <th>1</th>\n",
              "      <td>Albania</td>\n",
              "      <td>1980</td>\n",
              "      <td>0</td>\n",
              "      <td>Conflict and Terrorism</td>\n",
              "    </tr>\n",
              "    <tr>\n",
              "      <th>2</th>\n",
              "      <td>Algeria</td>\n",
              "      <td>1980</td>\n",
              "      <td>0</td>\n",
              "      <td>Conflict and Terrorism</td>\n",
              "    </tr>\n",
              "    <tr>\n",
              "      <th>3</th>\n",
              "      <td>American Samoa</td>\n",
              "      <td>1980</td>\n",
              "      <td>0</td>\n",
              "      <td>Conflict and Terrorism</td>\n",
              "    </tr>\n",
              "    <tr>\n",
              "      <th>4</th>\n",
              "      <td>Angola</td>\n",
              "      <td>1980</td>\n",
              "      <td>5882</td>\n",
              "      <td>Conflict and Terrorism</td>\n",
              "    </tr>\n",
              "  </tbody>\n",
              "</table>\n",
              "</div>"
            ],
            "text/plain": [
              "          Country  Year  Deaths                   Cause\n",
              "0     Afghanistan  1980   35000  Conflict and Terrorism\n",
              "1         Albania  1980       0  Conflict and Terrorism\n",
              "2         Algeria  1980       0  Conflict and Terrorism\n",
              "3  American Samoa  1980       0  Conflict and Terrorism\n",
              "4          Angola  1980    5882  Conflict and Terrorism"
            ]
          },
          "metadata": {},
          "execution_count": 306
        }
      ]
    },
    {
      "cell_type": "markdown",
      "metadata": {
        "id": "RVOfVr10S60p"
      },
      "source": [
        "##### **Cleaning Data**\n",
        "Now dropping the rows where Deaths are zero"
      ],
      "id": "RVOfVr10S60p"
    },
    {
      "cell_type": "code",
      "metadata": {
        "colab": {
          "base_uri": "https://localhost:8080/"
        },
        "id": "Hfxojxj-Lijt",
        "outputId": "53f3b5a5-fc98-4f41-e457-c284fd3ffa43"
      },
      "source": [
        "deaths = deaths[deaths.Deaths != 0]\n",
        "deaths.head()"
      ],
      "id": "Hfxojxj-Lijt",
      "execution_count": null,
      "outputs": [
        {
          "output_type": "execute_result",
          "data": {
            "text/html": [
              "<div>\n",
              "<style scoped>\n",
              "    .dataframe tbody tr th:only-of-type {\n",
              "        vertical-align: middle;\n",
              "    }\n",
              "\n",
              "    .dataframe tbody tr th {\n",
              "        vertical-align: top;\n",
              "    }\n",
              "\n",
              "    .dataframe thead th {\n",
              "        text-align: right;\n",
              "    }\n",
              "</style>\n",
              "<table border=\"1\" class=\"dataframe\">\n",
              "  <thead>\n",
              "    <tr style=\"text-align: right;\">\n",
              "      <th></th>\n",
              "      <th>Country</th>\n",
              "      <th>Year</th>\n",
              "      <th>Deaths</th>\n",
              "      <th>Cause</th>\n",
              "    </tr>\n",
              "  </thead>\n",
              "  <tbody>\n",
              "    <tr>\n",
              "      <th>0</th>\n",
              "      <td>Afghanistan</td>\n",
              "      <td>1980</td>\n",
              "      <td>35000</td>\n",
              "      <td>Conflict and Terrorism</td>\n",
              "    </tr>\n",
              "    <tr>\n",
              "      <th>4</th>\n",
              "      <td>Angola</td>\n",
              "      <td>1980</td>\n",
              "      <td>5882</td>\n",
              "      <td>Conflict and Terrorism</td>\n",
              "    </tr>\n",
              "    <tr>\n",
              "      <th>6</th>\n",
              "      <td>Argentina</td>\n",
              "      <td>1980</td>\n",
              "      <td>2505</td>\n",
              "      <td>Conflict and Terrorism</td>\n",
              "    </tr>\n",
              "    <tr>\n",
              "      <th>7</th>\n",
              "      <td>Armenia</td>\n",
              "      <td>1980</td>\n",
              "      <td>10</td>\n",
              "      <td>Conflict and Terrorism</td>\n",
              "    </tr>\n",
              "    <tr>\n",
              "      <th>8</th>\n",
              "      <td>Australia</td>\n",
              "      <td>1980</td>\n",
              "      <td>6</td>\n",
              "      <td>Conflict and Terrorism</td>\n",
              "    </tr>\n",
              "  </tbody>\n",
              "</table>\n",
              "</div>"
            ],
            "text/plain": [
              "       Country  Year  Deaths                   Cause\n",
              "0  Afghanistan  1980   35000  Conflict and Terrorism\n",
              "4       Angola  1980    5882  Conflict and Terrorism\n",
              "6    Argentina  1980    2505  Conflict and Terrorism\n",
              "7      Armenia  1980      10  Conflict and Terrorism\n",
              "8    Australia  1980       6  Conflict and Terrorism"
            ]
          },
          "metadata": {},
          "execution_count": 307
        }
      ]
    },
    {
      "cell_type": "markdown",
      "metadata": {
        "id": "Fhvj7tNJarUc"
      },
      "source": [
        "Now merging this dataset with continent dataset for further data exploration.\n",
        "\n",
        "\n"
      ],
      "id": "Fhvj7tNJarUc"
    },
    {
      "cell_type": "code",
      "metadata": {
        "colab": {
          "base_uri": "https://localhost:8080/"
        },
        "id": "FgXrbc63bKgG",
        "outputId": "39d5d2df-464d-4755-97b7-f800378584b1"
      },
      "source": [
        "dt = pd.merge(deaths,continent,left_on=['Country'],right_on=['Country'])\n",
        "dt.head()"
      ],
      "id": "FgXrbc63bKgG",
      "execution_count": null,
      "outputs": [
        {
          "output_type": "execute_result",
          "data": {
            "text/html": [
              "<div>\n",
              "<style scoped>\n",
              "    .dataframe tbody tr th:only-of-type {\n",
              "        vertical-align: middle;\n",
              "    }\n",
              "\n",
              "    .dataframe tbody tr th {\n",
              "        vertical-align: top;\n",
              "    }\n",
              "\n",
              "    .dataframe thead th {\n",
              "        text-align: right;\n",
              "    }\n",
              "</style>\n",
              "<table border=\"1\" class=\"dataframe\">\n",
              "  <thead>\n",
              "    <tr style=\"text-align: right;\">\n",
              "      <th></th>\n",
              "      <th>Country</th>\n",
              "      <th>Year</th>\n",
              "      <th>Deaths</th>\n",
              "      <th>Cause</th>\n",
              "      <th>Continent</th>\n",
              "      <th>Subregion</th>\n",
              "    </tr>\n",
              "  </thead>\n",
              "  <tbody>\n",
              "    <tr>\n",
              "      <th>0</th>\n",
              "      <td>Afghanistan</td>\n",
              "      <td>1980</td>\n",
              "      <td>35000</td>\n",
              "      <td>Conflict and Terrorism</td>\n",
              "      <td>Asia</td>\n",
              "      <td>Southern Asia</td>\n",
              "    </tr>\n",
              "    <tr>\n",
              "      <th>1</th>\n",
              "      <td>Afghanistan</td>\n",
              "      <td>1981</td>\n",
              "      <td>30000</td>\n",
              "      <td>Conflict and Terrorism</td>\n",
              "      <td>Asia</td>\n",
              "      <td>Southern Asia</td>\n",
              "    </tr>\n",
              "    <tr>\n",
              "      <th>2</th>\n",
              "      <td>Afghanistan</td>\n",
              "      <td>1982</td>\n",
              "      <td>35000</td>\n",
              "      <td>Conflict and Terrorism</td>\n",
              "      <td>Asia</td>\n",
              "      <td>Southern Asia</td>\n",
              "    </tr>\n",
              "    <tr>\n",
              "      <th>3</th>\n",
              "      <td>Afghanistan</td>\n",
              "      <td>1983</td>\n",
              "      <td>55000</td>\n",
              "      <td>Conflict and Terrorism</td>\n",
              "      <td>Asia</td>\n",
              "      <td>Southern Asia</td>\n",
              "    </tr>\n",
              "    <tr>\n",
              "      <th>4</th>\n",
              "      <td>Afghanistan</td>\n",
              "      <td>1984</td>\n",
              "      <td>80000</td>\n",
              "      <td>Conflict and Terrorism</td>\n",
              "      <td>Asia</td>\n",
              "      <td>Southern Asia</td>\n",
              "    </tr>\n",
              "  </tbody>\n",
              "</table>\n",
              "</div>"
            ],
            "text/plain": [
              "       Country  Year  Deaths                   Cause Continent      Subregion\n",
              "0  Afghanistan  1980   35000  Conflict and Terrorism      Asia  Southern Asia\n",
              "1  Afghanistan  1981   30000  Conflict and Terrorism      Asia  Southern Asia\n",
              "2  Afghanistan  1982   35000  Conflict and Terrorism      Asia  Southern Asia\n",
              "3  Afghanistan  1983   55000  Conflict and Terrorism      Asia  Southern Asia\n",
              "4  Afghanistan  1984   80000  Conflict and Terrorism      Asia  Southern Asia"
            ]
          },
          "metadata": {},
          "execution_count": 308
        }
      ]
    },
    {
      "cell_type": "markdown",
      "metadata": {
        "id": "3672bc4e"
      },
      "source": [
        "## Exploratory Data Analysis"
      ],
      "id": "3672bc4e"
    },
    {
      "cell_type": "markdown",
      "metadata": {
        "id": "b1807f33"
      },
      "source": [
        "**Worldwide**"
      ],
      "id": "b1807f33"
    },
    {
      "cell_type": "markdown",
      "metadata": {
        "id": "9c92d602"
      },
      "source": [
        "First, we'll look at the worldwide suicide rate by gender through all years:"
      ],
      "id": "9c92d602"
    },
    {
      "cell_type": "code",
      "metadata": {
        "colab": {
          "base_uri": "https://localhost:8080/",
          "height": 373
        },
        "id": "4040de7f",
        "outputId": "b87f123d-4e9e-458f-8a61-d10167972f84"
      },
      "source": [
        "rate_by_gender = df[['Suicides/100k Pop', 'Gender']].groupby(['Gender']).sum()\n",
        "rate_by_gender.rename(columns={'Gender':'Gender','Suicides/100k Pop': 'Count'})\n",
        "pie, ax = plt.subplots(figsize=[10,6])\n",
        "plt.pie(rate_by_gender['Suicides/100k Pop'],labels = ['Female', 'Male'], colors = ['#ff9999','#66b3ff'],autopct='%1.1f%%')\n",
        "plt.title('Worldwide Suicide Rate by Gender')\n",
        "plt.axis('equal')\n",
        "plt.show()"
      ],
      "id": "4040de7f",
      "execution_count": null,
      "outputs": [
        {
          "output_type": "display_data",
          "data": {
            "image/png": "[encoded data removed]",
            "text/plain": [
              "<Figure size 720x432 with 1 Axes>"
            ]
          },
          "metadata": {}
        }
      ]
    },
    {
      "cell_type": "markdown",
      "metadata": {
        "id": "606ab277"
      },
      "source": [
        "From the pie-chart we can see that the suicide rate for males is overwhelmingly large compared to the female rate."
      ],
      "id": "606ab277"
    },
    {
      "cell_type": "code",
      "metadata": {
        "id": "c26h4BtI_waJ",
        "colab": {
          "base_uri": "https://localhost:8080/",
          "height": 312
        },
        "outputId": "635e5b35-e2cc-43ee-8151-56c0cea8c8a6"
      },
      "source": [
        "gender_year = pd.DataFrame(df[['Suicides/100k Pop', 'Year', 'Gender', ]].groupby(['Year', 'Gender']).sum())\n",
        "\n",
        "gender_year.unstack().plot(color = ['#ff9999','#66b3ff'], title = \"Suicide by Gender and Year\")\n",
        "plt.legend([\"Female\", \"Male\"]);\n",
        "plt.xlabel('Year')\n",
        "plt.ylabel('Suicides/100k Pop')"
      ],
      "id": "c26h4BtI_waJ",
      "execution_count": null,
      "outputs": [
        {
          "output_type": "execute_result",
          "data": {
            "text/plain": [
              "Text(0, 0.5, 'Suicides/100k Pop')"
            ]
          },
          "metadata": {},
          "execution_count": 329
        },
        {
          "output_type": "display_data",
          "data": {
            "image/png": "[encoded data removed]",
            "text/plain": [
              "<Figure size 432x288 with 1 Axes>"
            ]
          },
          "metadata": {
            "needs_background": "light"
          }
        }
      ]
    },
    {
      "cell_type": "markdown",
      "metadata": {
        "id": "BCP0HjvQAtTe"
      },
      "source": [
        "Throughout the range of years, males make up the majority of the suicide rates of nearly 79%. Both males and females follow the trend, with rates increasing/decreasing throughout varying years. The suicide rate peaked in 1995 for both male and female and has declined since. The ratio between male and female was the smallest ever in 1985 before but increased dramatically after the spike in male suicide rates in 1995. The gap in ratio has declined since, but not significantly.\n",
        "\n",
        "Next we will look at the suicide rate by generation:"
      ],
      "id": "BCP0HjvQAtTe"
    },
    {
      "cell_type": "code",
      "metadata": {
        "colab": {
          "base_uri": "https://localhost:8080/",
          "height": 373
        },
        "id": "7d075133",
        "outputId": "d41bd2fc-bad5-4966-c50a-b8381ffe9b2f"
      },
      "source": [
        "rate_by_generation = df[['Suicides/100k Pop', 'Generation']].groupby(['Generation']).sum()\n",
        "rate_by_generation.rename(columns={'Generation':'Generation','Suicides/100k Pop': 'Count'})\n",
        "rate_by_generation.head()\n",
        "\n",
        "pie, ax = plt.subplots(figsize=[10,6])\n",
        "labels = ['Boomers', 'G.I. Generation', 'Generation X','Generation Z', 'Millenials', 'Silent']\n",
        "plt.pie(rate_by_generation['Suicides/100k Pop'], autopct=\"%.1f%%\", explode=[0.02]*6, labels=labels, \n",
        "        pctdistance=0.5, colors =  ['#c0fb2d', '#7af9ab', '#fc5a50','#ffe36e',  '#a2cffe', '#f075e6'])\n",
        "plt.title('Worldwide Suicide Rate by Generation')\n",
        "plt.axis('equal')\n",
        "plt.show()"
      ],
      "id": "7d075133",
      "execution_count": null,
      "outputs": [
        {
          "output_type": "display_data",
          "data": {
            "image/png": "[encoded data removed]",
            "text/plain": [
              "<Figure size 720x432 with 1 Axes>"
            ]
          },
          "metadata": {}
        }
      ]
    },
    {
      "cell_type": "code",
      "metadata": {
        "colab": {
          "base_uri": "https://localhost:8080/",
          "height": 899
        },
        "id": "6c6c4d39",
        "outputId": "f7292207-b845-4e66-be0e-755c80945bc5"
      },
      "source": [
        "ay = pd.DataFrame(df[['Suicides/100k Pop', 'Year', 'Age', ]].groupby(['Year', 'Age']).sum())\n",
        "\n",
        "third_df = len(ay) // 3\n",
        "ay1 = ay.iloc[:third_df + 2]\n",
        "ay2 = ay.iloc[third_df + 2:(2 * third_df - 2)]\n",
        "ay3 = ay.iloc[(2 * third_df - 2):]\n",
        "\n",
        "age_legend = ['15-24 years', '25-34 years', '35-54 years', '5-14 years', '55-74 years', '75+ years']\n",
        "\n",
        "ay1.unstack().plot(kind = 'bar', color = ['#c0fb2d', '#7af9ab', '#fc5a50','#ffe36e', '#a2cffe', '#f075e6'],\n",
        "                   title = \"Suicide by Age per Year\", ylabel = 'Suicides/100k Pop')\n",
        "plt.legend(['15-24 years', '25-34 years', '35-54 years', '5-14 years', '55-74 years', '75+ years']);\n",
        "ay2.unstack().plot(kind = 'bar', color = ['#c0fb2d', '#7af9ab', '#fc5a50','#ffe36e', '#a2cffe', '#f075e6'],\n",
        "                   title = \"Suicide by Age per Year\", ylabel = 'Suicides/100k Pop')\n",
        "plt.legend(['15-24 years', '25-34 years', '35-54 years', '5-14 years', '55-74 years', '75+ years']);\n",
        "ay3.unstack().plot(kind = 'bar', color = ['#c0fb2d', '#7af9ab', '#fc5a50','#ffe36e', '#a2cffe', '#f075e6'],\n",
        "                   title = \"Suicide by Age per Year\", ylabel = 'Suicides/100k Pop')\n",
        "plt.legend(['15-24 years', '25-34 years', '35-54 years', '5-14 years', '55-74 years', '75+ years']);\n"
      ],
      "id": "6c6c4d39",
      "execution_count": null,
      "outputs": [
        {
          "output_type": "display_data",
          "data": {
            "image/png": "[encoded data removed]",
            "text/plain": [
              "<Figure size 432x288 with 1 Axes>"
            ]
          },
          "metadata": {
            "needs_background": "light"
          }
        },
        {
          "output_type": "display_data",
          "data": {
            "image/png": "[encoded data removed]",
            "text/plain": [
              "<Figure size 432x288 with 1 Axes>"
            ]
          },
          "metadata": {
            "needs_background": "light"
          }
        },
        {
          "output_type": "display_data",
          "data": {
            "image/png": "[encoded data removed]",
            "text/plain": [
              "<Figure size 432x288 with 1 Axes>"
            ]
          },
          "metadata": {
            "needs_background": "light"
          }
        }
      ]
    },
    {
      "cell_type": "markdown",
      "metadata": {
        "id": "154add9f"
      },
      "source": [
        "As seen above, the order of the age-groups who commit suicide does not change through the years. This means those who are older are at more risk."
      ],
      "id": "154add9f"
    },
    {
      "cell_type": "code",
      "metadata": {
        "colab": {
          "base_uri": "https://localhost:8080/",
          "height": 312
        },
        "id": "0c8cea41",
        "outputId": "55c471db-af62-4130-e318-06a1732661ba"
      },
      "source": [
        "rate_by_year = df[['Suicides/100k Pop', 'Year']].groupby(['Year']).sum()\n",
        "sns.lineplot(data=rate_by_year, x=\"Year\", y=\"Suicides/100k Pop\").set_title(\"Worldwide Suicides per Year\")"
      ],
      "id": "0c8cea41",
      "execution_count": null,
      "outputs": [
        {
          "output_type": "execute_result",
          "data": {
            "text/plain": [
              "Text(0.5, 1.0, 'Worldwide Suicides per Year')"
            ]
          },
          "metadata": {},
          "execution_count": 312
        },
        {
          "output_type": "display_data",
          "data": {
            "image/png": "[encoded data removed]",
            "text/plain": [
              "<Figure size 432x288 with 1 Axes>"
            ]
          },
          "metadata": {
            "needs_background": "light"
          }
        }
      ]
    },
    {
      "cell_type": "markdown",
      "metadata": {
        "id": "0c46cf9f"
      },
      "source": [
        "**Continent**"
      ],
      "id": "0c46cf9f"
    },
    {
      "cell_type": "markdown",
      "metadata": {
        "id": "rAEkNE3-3kIf"
      },
      "source": [
        "First I'd like to get an understanding of the representation of the continents in the dataset:"
      ],
      "id": "rAEkNE3-3kIf"
    },
    {
      "cell_type": "code",
      "metadata": {
        "colab": {
          "base_uri": "https://localhost:8080/",
          "height": 373
        },
        "id": "lHgSQ9n93ncf",
        "outputId": "f30daefb-05eb-43e8-d537-93954cbbce99"
      },
      "source": [
        "suicide_by_count = df[['Continent']].value_counts()\n",
        "suicide_by_count.head()\n",
        "pie, ax = plt.subplots(figsize=[10,6])\n",
        "plt.pie(suicide_by_count,labels = ['Europe', 'Americas', 'Asia', 'Oceania', 'Africa'],\n",
        "        colors = ['#a2cffe','#fc5a50', '#ffe36e','#f075e6', '#7af9ab', ],autopct='%1.1f%%')\n",
        "plt.title('Suicide Rate by Continent')\n",
        "plt.axis('equal')\n",
        "plt.show()"
      ],
      "id": "lHgSQ9n93ncf",
      "execution_count": null,
      "outputs": [
        {
          "output_type": "display_data",
          "data": {
            "image/png": "[encoded data removed]",
            "text/plain": [
              "<Figure size 720x432 with 1 Axes>"
            ]
          },
          "metadata": {}
        }
      ]
    },
    {
      "cell_type": "markdown",
      "metadata": {
        "id": "IESnsn4h3rJf"
      },
      "source": [
        "As seen above, Europe, Americas and Asia have a decent amount of representation, meanwhile Africa and Oceania have very little. This is not because of any biases the compiler of this dataset has, but because the suicide research in Africa is limited by a lack of systematic data collection. With less than 10% of African countries reporting mortality data to WHO, official statistics are available for only 15% of the continent’s total population. Ultimately this means that any analysis we do based on continent, is not entirely accurate. \n",
        "\n",
        "<br>\n",
        "Works cited: https://bmcpublichealth.biomedcentral.com/articles/10.1186/1471-2458-14-606/ "
      ],
      "id": "IESnsn4h3rJf"
    },
    {
      "cell_type": "code",
      "metadata": {
        "colab": {
          "base_uri": "https://localhost:8080/",
          "height": 373
        },
        "id": "3565f2f3",
        "outputId": "8b67cb20-569b-44ac-d33b-b622e6df1b24"
      },
      "source": [
        "suicide_by_continent = df[['Suicides/100k Pop', 'Continent']].groupby(['Continent']).sum()\n",
        "\n",
        "pie, ax = plt.subplots(figsize=[10,6])\n",
        "plt.pie(suicide_by_continent['Suicides/100k Pop'],labels = ['Africa', 'Americas', 'Asia', 'Europe', 'Oceania'],\n",
        "        colors = ['#7af9ab', '#fc5a50','#ffe36e', '#a2cffe', '#f075e6'],autopct='%1.1f%%')\n",
        "plt.title('Suicide Rate by Continent')\n",
        "plt.axis('equal')\n",
        "plt.show()"
      ],
      "id": "3565f2f3",
      "execution_count": null,
      "outputs": [
        {
          "output_type": "display_data",
          "data": {
            "image/png": "[encoded data removed]",
            "text/plain": [
              "<Figure size 720x432 with 1 Axes>"
            ]
          },
          "metadata": {}
        }
      ]
    },
    {
      "cell_type": "markdown",
      "metadata": {
        "id": "gPuOHGAI5j8d"
      },
      "source": [
        "Europe seems to have the highest suicide rate, followed by Americas and Asia. That being said, it is important to keep in mind the representation of continents in the dataset and how that may affect the accuracy of these findings."
      ],
      "id": "gPuOHGAI5j8d"
    },
    {
      "cell_type": "code",
      "metadata": {
        "colab": {
          "base_uri": "https://localhost:8080/",
          "height": 349
        },
        "id": "ea8e349f",
        "outputId": "75b4a3e9-8159-480b-85a4-3e87ae7b8db6"
      },
      "source": [
        "gender_continent = df[['Suicides/100k Pop', 'Continent', 'Gender']].groupby(['Continent', 'Gender']).sum()\n",
        "gender_continent.unstack().plot(kind = 'bar', color = ['#ff9999','#66b3ff'], title = \"Suicide by Continent and Gender\")\n",
        "plt.legend([\"Female\", \"Male\"]);\n",
        "plt.xlabel('Continent')\n",
        "plt.ylabel('Suicides/100k Pop')"
      ],
      "id": "ea8e349f",
      "execution_count": null,
      "outputs": [
        {
          "output_type": "execute_result",
          "data": {
            "text/plain": [
              "Text(0, 0.5, 'Suicides/100k Pop')"
            ]
          },
          "metadata": {},
          "execution_count": 314
        },
        {
          "output_type": "display_data",
          "data": {
            "image/png": "[encoded data removed]",
            "text/plain": [
              "<Figure size 432x288 with 1 Axes>"
            ]
          },
          "metadata": {
            "needs_background": "light"
          }
        }
      ]
    },
    {
      "cell_type": "markdown",
      "metadata": {
        "id": "Fxo4u5ZF6G8M"
      },
      "source": [
        "All continents follow the trend of males having a much larger suicide rate than females, but Europe shows the biggest difference in ratio.\n",
        "<br>\n",
        "\n",
        "Now let's take a look at the suicide rate by continent and age:"
      ],
      "id": "Fxo4u5ZF6G8M"
    },
    {
      "cell_type": "code",
      "metadata": {
        "colab": {
          "base_uri": "https://localhost:8080/",
          "height": 349
        },
        "id": "072466c9",
        "outputId": "bbfd4fee-399d-4ed1-aca3-48b299e2ae58"
      },
      "source": [
        "age_continent = df[['Suicides/100k Pop', 'Continent', 'Age']].groupby(['Continent', 'Age']).sum()\n",
        "age_continent.unstack().plot(kind = 'bar', color = ['#c0fb2d', '#7af9ab', '#fc5a50','#ffe36e', '#a2cffe', '#f075e6'], \n",
        "                             title = \"Suicide by Continent and Age\")\n",
        "plt.legend(['15-24 years', '25-34 years', '35-54 years', '5-14 years', '55-74 years', '75+ years']);\n",
        "plt.xlabel('Continent')\n",
        "plt.ylabel('Suicides/100k Pop')"
      ],
      "id": "072466c9",
      "execution_count": null,
      "outputs": [
        {
          "output_type": "execute_result",
          "data": {
            "text/plain": [
              "Text(0, 0.5, 'Suicides/100k Pop')"
            ]
          },
          "metadata": {},
          "execution_count": 315
        },
        {
          "output_type": "display_data",
          "data": {
            "image/png": "[encoded data removed]",
            "text/plain": [
              "<Figure size 432x288 with 1 Axes>"
            ]
          },
          "metadata": {
            "needs_background": "light"
          }
        }
      ]
    },
    {
      "cell_type": "markdown",
      "metadata": {
        "id": "TNRMIDo36ij7"
      },
      "source": [
        "Americas, Asia and Europe follow the worldwide trend,  however Oceania and Africa do not. It is likely due to a lack of representation of data from these continents."
      ],
      "id": "TNRMIDo36ij7"
    },
    {
      "cell_type": "markdown",
      "metadata": {
        "id": "2958ac02"
      },
      "source": [
        "**Countries**"
      ],
      "id": "2958ac02"
    },
    {
      "cell_type": "markdown",
      "metadata": {
        "id": "R-KLDx8A64ry"
      },
      "source": [
        "Now we'll look at each individual country. "
      ],
      "id": "R-KLDx8A64ry"
    },
    {
      "cell_type": "code",
      "metadata": {
        "colab": {
          "base_uri": "https://localhost:8080/",
          "height": 1000
        },
        "id": "d63a809d",
        "outputId": "bb03eda9-2f3c-4e7f-af13-529c23a25bd7"
      },
      "source": [
        "suicide_by_country = df[['Suicides/100k Pop', 'Country']].groupby(['Country']).sum().sort_values(by = 'Suicides/100k Pop', \n",
        "                                                                                                 ascending = True)\n",
        "    \n",
        "cm = plt.cm.get_cmap('RdYlBu')    \n",
        "suicide_by_country.plot(kind = 'barh', title = 'Suicide Rate per Country',\n",
        "                         width = 1, linewidth=0.5, figsize = [10, 20])\n",
        "\n",
        "plt.xlabel(\"Suicide/100k Pop\")\n",
        "plt.ylabel(\"Country\")\n",
        "plt.show()"
      ],
      "id": "d63a809d",
      "execution_count": null,
      "outputs": [
        {
          "output_type": "display_data",
          "data": {
            "image/png": "[encoded data removed]",
            "text/plain": [
              "<Figure size 720x1440 with 1 Axes>"
            ]
          },
          "metadata": {
            "needs_background": "light"
          }
        }
      ]
    },
    {
      "cell_type": "markdown",
      "metadata": {
        "id": "ANxZjnY18NVE"
      },
      "source": [
        "This gives us a general idea of which countries are affected by suicide the most. Let's take a closer look:"
      ],
      "id": "ANxZjnY18NVE"
    },
    {
      "cell_type": "code",
      "metadata": {
        "colab": {
          "base_uri": "https://localhost:8080/",
          "height": 520
        },
        "id": "QJ8Zpvcd8b45",
        "outputId": "9565b5a1-a59d-443b-8c00-a80f1a415761"
      },
      "source": [
        "country_avg = df.groupby(['Country','Gender']).agg({'GDP Per Capita':'mean', 'Suicide No.':'mean', 'Population':'mean'}).sort_values(by=['Suicide No.'], ascending=False).reset_index()\n",
        "country_avg['Suicides by the Population'] = country_avg['Suicide No.'] / country_avg['Population']\n",
        "country_avg = country_avg.sort_values(by=['Suicides by the Population'], ascending=False)\n",
        "country_avg['Suicides by the Population'].mean()\n",
        "country_avg.head(15)"
      ],
      "id": "QJ8Zpvcd8b45",
      "execution_count": null,
      "outputs": [
        {
          "output_type": "execute_result",
          "data": {
            "text/html": [
              "<div>\n",
              "<style scoped>\n",
              "    .dataframe tbody tr th:only-of-type {\n",
              "        vertical-align: middle;\n",
              "    }\n",
              "\n",
              "    .dataframe tbody tr th {\n",
              "        vertical-align: top;\n",
              "    }\n",
              "\n",
              "    .dataframe thead th {\n",
              "        text-align: right;\n",
              "    }\n",
              "</style>\n",
              "<table border=\"1\" class=\"dataframe\">\n",
              "  <thead>\n",
              "    <tr style=\"text-align: right;\">\n",
              "      <th></th>\n",
              "      <th>Country</th>\n",
              "      <th>Gender</th>\n",
              "      <th>GDP Per Capita</th>\n",
              "      <th>Suicide No.</th>\n",
              "      <th>Population</th>\n",
              "      <th>Suicides by the Population</th>\n",
              "    </tr>\n",
              "  </thead>\n",
              "  <tbody>\n",
              "    <tr>\n",
              "      <th>41</th>\n",
              "      <td>Lithuania</td>\n",
              "      <td>male</td>\n",
              "      <td>9280.549618</td>\n",
              "      <td>175.786260</td>\n",
              "      <td>2.402566e+05</td>\n",
              "      <td>0.000732</td>\n",
              "    </tr>\n",
              "    <tr>\n",
              "      <th>0</th>\n",
              "      <td>Russian Federation</td>\n",
              "      <td>male</td>\n",
              "      <td>6518.814815</td>\n",
              "      <td>6144.518519</td>\n",
              "      <td>1.055612e+07</td>\n",
              "      <td>0.000582</td>\n",
              "    </tr>\n",
              "    <tr>\n",
              "      <th>22</th>\n",
              "      <td>Belarus</td>\n",
              "      <td>male</td>\n",
              "      <td>3333.904762</td>\n",
              "      <td>395.952381</td>\n",
              "      <td>7.280138e+05</td>\n",
              "      <td>0.000544</td>\n",
              "    </tr>\n",
              "    <tr>\n",
              "      <th>62</th>\n",
              "      <td>Latvia</td>\n",
              "      <td>male</td>\n",
              "      <td>8786.173554</td>\n",
              "      <td>85.090909</td>\n",
              "      <td>1.653596e+05</td>\n",
              "      <td>0.000515</td>\n",
              "    </tr>\n",
              "    <tr>\n",
              "      <th>24</th>\n",
              "      <td>Hungary</td>\n",
              "      <td>male</td>\n",
              "      <td>9337.824675</td>\n",
              "      <td>362.181818</td>\n",
              "      <td>7.625801e+05</td>\n",
              "      <td>0.000475</td>\n",
              "    </tr>\n",
              "    <tr>\n",
              "      <th>88</th>\n",
              "      <td>Estonia</td>\n",
              "      <td>male</td>\n",
              "      <td>11271.958333</td>\n",
              "      <td>47.008333</td>\n",
              "      <td>1.007657e+05</td>\n",
              "      <td>0.000467</td>\n",
              "    </tr>\n",
              "    <tr>\n",
              "      <th>12</th>\n",
              "      <td>Sri Lanka</td>\n",
              "      <td>male</td>\n",
              "      <td>904.272727</td>\n",
              "      <td>637.015152</td>\n",
              "      <td>1.379687e+06</td>\n",
              "      <td>0.000462</td>\n",
              "    </tr>\n",
              "    <tr>\n",
              "      <th>13</th>\n",
              "      <td>Kazakhstan</td>\n",
              "      <td>male</td>\n",
              "      <td>5329.115385</td>\n",
              "      <td>534.525641</td>\n",
              "      <td>1.161898e+06</td>\n",
              "      <td>0.000460</td>\n",
              "    </tr>\n",
              "    <tr>\n",
              "      <th>70</th>\n",
              "      <td>Slovenia</td>\n",
              "      <td>male</td>\n",
              "      <td>18366.796610</td>\n",
              "      <td>70.449153</td>\n",
              "      <td>1.603450e+05</td>\n",
              "      <td>0.000439</td>\n",
              "    </tr>\n",
              "    <tr>\n",
              "      <th>3</th>\n",
              "      <td>Ukraine</td>\n",
              "      <td>male</td>\n",
              "      <td>1867.535714</td>\n",
              "      <td>1539.125000</td>\n",
              "      <td>3.521422e+06</td>\n",
              "      <td>0.000437</td>\n",
              "    </tr>\n",
              "    <tr>\n",
              "      <th>44</th>\n",
              "      <td>Finland</td>\n",
              "      <td>male</td>\n",
              "      <td>35320.305882</td>\n",
              "      <td>153.041176</td>\n",
              "      <td>3.991996e+05</td>\n",
              "      <td>0.000383</td>\n",
              "    </tr>\n",
              "    <tr>\n",
              "      <th>67</th>\n",
              "      <td>Mongolia</td>\n",
              "      <td>male</td>\n",
              "      <td>4145.000000</td>\n",
              "      <td>74.200000</td>\n",
              "      <td>2.096036e+05</td>\n",
              "      <td>0.000354</td>\n",
              "    </tr>\n",
              "    <tr>\n",
              "      <th>114</th>\n",
              "      <td>Guyana</td>\n",
              "      <td>male</td>\n",
              "      <td>1732.956204</td>\n",
              "      <td>19.036496</td>\n",
              "      <td>5.409581e+04</td>\n",
              "      <td>0.000352</td>\n",
              "    </tr>\n",
              "    <tr>\n",
              "      <th>185</th>\n",
              "      <td>San Marino</td>\n",
              "      <td>male</td>\n",
              "      <td>52311.500000</td>\n",
              "      <td>1.000000</td>\n",
              "      <td>2.899000e+03</td>\n",
              "      <td>0.000345</td>\n",
              "    </tr>\n",
              "    <tr>\n",
              "      <th>54</th>\n",
              "      <td>Croatia</td>\n",
              "      <td>male</td>\n",
              "      <td>10325.898438</td>\n",
              "      <td>107.453125</td>\n",
              "      <td>3.383835e+05</td>\n",
              "      <td>0.000318</td>\n",
              "    </tr>\n",
              "  </tbody>\n",
              "</table>\n",
              "</div>"
            ],
            "text/plain": [
              "                Country Gender  ...    Population  Suicides by the Population\n",
              "41            Lithuania   male  ...  2.402566e+05                    0.000732\n",
              "0    Russian Federation   male  ...  1.055612e+07                    0.000582\n",
              "22              Belarus   male  ...  7.280138e+05                    0.000544\n",
              "62               Latvia   male  ...  1.653596e+05                    0.000515\n",
              "24              Hungary   male  ...  7.625801e+05                    0.000475\n",
              "88              Estonia   male  ...  1.007657e+05                    0.000467\n",
              "12            Sri Lanka   male  ...  1.379687e+06                    0.000462\n",
              "13           Kazakhstan   male  ...  1.161898e+06                    0.000460\n",
              "70             Slovenia   male  ...  1.603450e+05                    0.000439\n",
              "3               Ukraine   male  ...  3.521422e+06                    0.000437\n",
              "44              Finland   male  ...  3.991996e+05                    0.000383\n",
              "67             Mongolia   male  ...  2.096036e+05                    0.000354\n",
              "114              Guyana   male  ...  5.409581e+04                    0.000352\n",
              "185          San Marino   male  ...  2.899000e+03                    0.000345\n",
              "54              Croatia   male  ...  3.383835e+05                    0.000318\n",
              "\n",
              "[15 rows x 6 columns]"
            ]
          },
          "metadata": {},
          "execution_count": 327
        }
      ]
    },
    {
      "cell_type": "code",
      "metadata": {
        "colab": {
          "base_uri": "https://localhost:8080/",
          "height": 635
        },
        "id": "S6048yEc8gau",
        "outputId": "5bf4df22-d14c-4eb0-d477-d101ecd86fa4"
      },
      "source": [
        "plt.figure(figsize=(20,10))\n",
        "plt.bar(country_avg['Country'].head(14), country_avg['Suicides by the Population'].head(14));\n",
        "plt.title(\"Top Countries by Suicide/Pop. Average\", fontsize=20)\n",
        "plt.ylabel(\"Suicides by the Population\", fontsize=18)\n",
        "plt.xlabel(\"Country\", fontsize=18);"
      ],
      "id": "S6048yEc8gau",
      "execution_count": null,
      "outputs": [
        {
          "output_type": "display_data",
          "data": {
            "image/png": "[encoded data removed]",
            "text/plain": [
              "<Figure size 1440x720 with 1 Axes>"
            ]
          },
          "metadata": {
            "needs_background": "light"
          }
        }
      ]
    },
    {
      "cell_type": "markdown",
      "metadata": {
        "id": "n53OSRmy8l5j"
      },
      "source": [
        "If we observe the figures displaying the average of suicides by population per year vs the suicide/population average by country, we can relate the significant increase in suicide rates after 1990, where it peaks in 1995, to the effects of the dissolution of the Soviet Union in 1991. Hence, many of the top countries displayed above are countries that formed from the fall of the Soviet Union (Burke, 2014).\n",
        "<br>\n",
        "\n",
        "Works Cited:\n",
        "https://www.theguardian.com/world/2014/jun/09/-sp-profiles-post-soviet-states\n",
        "<br>\n",
        "\n",
        "Next we'll look at the gender per each country:"
      ],
      "id": "n53OSRmy8l5j"
    },
    {
      "cell_type": "code",
      "metadata": {
        "colab": {
          "base_uri": "https://localhost:8080/",
          "height": 428
        },
        "id": "547378d0",
        "outputId": "478e8deb-8c64-495d-cd9f-92446c2033ac"
      },
      "source": [
        "gender_country = df[['Suicides/100k Pop', 'Country', 'Gender']].groupby(['Country', 'Gender']).sum()\n",
        "gender_country.unstack().plot(kind = 'bar', stacked=True, color = ['#ff9999','#66b3ff'],\n",
        "                              title = \"Suicide by Country and Gender\")\n",
        "plt.legend([\"Female\", \"Male\"]);\n",
        "plt.xlabel('Country')\n",
        "plt.ylabel('Suicides/100k Pop')\n"
      ],
      "id": "547378d0",
      "execution_count": null,
      "outputs": [
        {
          "output_type": "execute_result",
          "data": {
            "text/plain": [
              "Text(0, 0.5, 'Suicides/100k Pop')"
            ]
          },
          "metadata": {},
          "execution_count": 317
        },
        {
          "output_type": "display_data",
          "data": {
            "image/png": "[encoded data removed]",
            "text/plain": [
              "<Figure size 432x288 with 1 Axes>"
            ]
          },
          "metadata": {
            "needs_background": "light"
          }
        }
      ]
    },
    {
      "cell_type": "markdown",
      "metadata": {
        "id": "5vdXpmLgDdOW"
      },
      "source": [
        "All contries follow the trend of male suicide rates being much greater than their female counterparts."
      ],
      "id": "5vdXpmLgDdOW"
    },
    {
      "cell_type": "markdown",
      "metadata": {
        "id": "SrngWprGU1_t"
      },
      "source": [
        "**Global Death Cause**\n",
        "\n",
        "We have analyzed another dataset (combination of continent and global deaths), which gives us a different perspective as to what causes deaths.\n",
        "\n",
        "We have not included deaths from diseases as we wanted to analyze the deaths by external causes, as suicide is mostly triggred by major events which affects the population as whole. (i.e., Terrorism induces fear in citizen, Natural disaster can cause an individual to lose someone or loss of property)"
      ],
      "id": "SrngWprGU1_t"
    },
    {
      "cell_type": "markdown",
      "metadata": {
        "id": "-KNbSZfGp69T"
      },
      "source": [
        "This plot shows Death by Causes"
      ],
      "id": "-KNbSZfGp69T"
    },
    {
      "cell_type": "code",
      "metadata": {
        "colab": {
          "base_uri": "https://localhost:8080/",
          "height": 373
        },
        "id": "2ZiI0PSAVwpD",
        "outputId": "f15ec381-5fd0-4d25-a7df-83b271cd6824"
      },
      "source": [
        "deaths_by_causes = dt[['Deaths', 'Cause']].groupby(['Cause']).sum()\n",
        "\n",
        "pie, ax = plt.subplots(figsize=[10,6])\n",
        "plt.pie(deaths_by_causes['Deaths'],labels = ['Conflict and Terrorism', 'Famine', 'Pandemic', 'Natural Disaster', 'Other Injuries'],\n",
        "        colors = ['#7af9ab', '#fc5a50','#ffe36e', '#a2cffe', '#f075e6'],autopct='%1.1f%%')\n",
        "plt.title('Deaths by Different Major Causes apart from Disease')\n",
        "plt.axis('equal')\n",
        "plt.show()"
      ],
      "id": "2ZiI0PSAVwpD",
      "execution_count": null,
      "outputs": [
        {
          "output_type": "display_data",
          "data": {
            "image/png": "[encoded data removed]",
            "text/plain": [
              "<Figure size 720x432 with 1 Axes>"
            ]
          },
          "metadata": {}
        }
      ]
    },
    {
      "cell_type": "markdown",
      "metadata": {
        "id": "MuB2Qqq5w6YS"
      },
      "source": [
        "This plot shows the deaths occured by continents"
      ],
      "id": "MuB2Qqq5w6YS"
    },
    {
      "cell_type": "code",
      "metadata": {
        "colab": {
          "base_uri": "https://localhost:8080/",
          "height": 376
        },
        "id": "TYQP_8shvZeb",
        "outputId": "8c82f8b3-11f5-4246-d187-59ee12fb06e2"
      },
      "source": [
        "deaths_by_continent = dt[['Deaths', 'Continent']].groupby(['Continent']).sum()\n",
        "\n",
        "pie, ax = plt.subplots(figsize=[10,6])\n",
        "plt.pie(deaths_by_continent['Deaths'],labels = ['Africa', 'Americas', 'Asia', 'Europe', 'Oceania'],\n",
        "        colors = ['#7af9ab', '#fc5a50','#ffe36e', '#a2cffe', '#f075e6'],autopct='%1.1f%%')\n",
        "plt.title('Deaths by Different Major Causes apart from Disease')\n",
        "plt.axis('equal')\n",
        "plt.show()"
      ],
      "id": "TYQP_8shvZeb",
      "execution_count": null,
      "outputs": [
        {
          "output_type": "display_data",
          "data": {
            "image/png": "[encoded data removed]",
            "text/plain": [
              "<Figure size 720x432 with 1 Axes>"
            ]
          },
          "metadata": {}
        }
      ]
    },
    {
      "cell_type": "markdown",
      "metadata": {
        "id": "rGRhq1kZxHAq"
      },
      "source": [
        "This plot shows the trend line of deaths by year"
      ],
      "id": "rGRhq1kZxHAq"
    },
    {
      "cell_type": "code",
      "metadata": {
        "colab": {
          "base_uri": "https://localhost:8080/",
          "height": 312
        },
        "id": "PtmRrSmggGO0",
        "outputId": "0efc7c53-0538-4405-949e-35a953ac1278"
      },
      "source": [
        "death_by_year = dt[['Deaths', 'Year']].groupby(['Year']).sum()\n",
        "sns.lineplot(data=death_by_year, x=\"Year\", y=\"Deaths\").set_title(\"Worldwide Deaths per Year\")"
      ],
      "id": "PtmRrSmggGO0",
      "execution_count": null,
      "outputs": [
        {
          "output_type": "execute_result",
          "data": {
            "text/plain": [
              "Text(0.5, 1.0, 'Worldwide Deaths per Year')"
            ]
          },
          "metadata": {},
          "execution_count": 320
        },
        {
          "output_type": "display_data",
          "data": {
            "image/png": "[encoded data removed]",
            "text/plain": [
              "<Figure size 432x288 with 1 Axes>"
            ]
          },
          "metadata": {
            "needs_background": "light"
          }
        }
      ]
    },
    {
      "cell_type": "markdown",
      "metadata": {
        "id": "JgXOaoFlxPiR"
      },
      "source": [
        "This plot shows the deaths by countries"
      ],
      "id": "JgXOaoFlxPiR"
    },
    {
      "cell_type": "code",
      "metadata": {
        "colab": {
          "base_uri": "https://localhost:8080/",
          "height": 1000
        },
        "id": "FpvTHex-gX3Y",
        "outputId": "4929d1c6-5ca8-43cf-ca20-5036d04a934d"
      },
      "source": [
        "deaths_by_country = dt[['Deaths', 'Country']].groupby(['Country']).sum().sort_values(by = 'Deaths', \n",
        "                                                                                                 ascending = True)\n",
        "    \n",
        "cm = plt.cm.get_cmap('RdYlBu')    \n",
        "deaths_by_country.plot(kind = 'barh', title = 'Deaths per Country',\n",
        "                         width = 1, linewidth=0.5, figsize = [10, 20])\n",
        "\n",
        "plt.xlabel(\"Deaths\")\n",
        "plt.ylabel(\"Country\")\n",
        "plt.show()"
      ],
      "id": "FpvTHex-gX3Y",
      "execution_count": null,
      "outputs": [
        {
          "output_type": "display_data",
          "data": {
            "image/png": "[encoded data removed]",
            "text/plain": [
              "<Figure size 720x1440 with 1 Axes>"
            ]
          },
          "metadata": {
            "needs_background": "light"
          }
        }
      ]
    },
    {
      "cell_type": "code",
      "metadata": {
        "id": "z_10yIf8prch"
      },
      "source": [
        ""
      ],
      "id": "z_10yIf8prch",
      "execution_count": null,
      "outputs": []
    },
    {
      "cell_type": "markdown",
      "metadata": {
        "id": "4a6358df"
      },
      "source": [
        "## Potential Data Science"
      ],
      "id": "4a6358df"
    },
    {
      "cell_type": "markdown",
      "metadata": {
        "id": "5O9kG1bM2xtq"
      },
      "source": [
        "1) Regressive analysis can demonstrate the relationship between unique independent variables (population, GDP, etc.) and the dependent variable (number of suicides). How x and y interact can provide insight into trends pertaining to the increase/decrease of the number of suicides. \n",
        "\n",
        "2) Visual models can be used to highlight the differences between variables; bringing attention to certain socio-economic factors which should be considered in the prevention of suicide. Visual models include bar graphs, world maps, pie charts, etc. \n",
        "\n",
        "3) Time-series model can be used to predict future trends pertaining to the growth, decrease, or levelling of suicide rates. \n",
        "\n",
        "4) A clustering model, which combines certain attributes can be used to determine its relation of multiple independent variables to the dependent variable (increased suicide risks)."
      ],
      "id": "5O9kG1bM2xtq"
    },
    {
      "cell_type": "markdown",
      "metadata": {
        "id": "7c57e7f3"
      },
      "source": [
        "### Conclusion\n",
        "\n",
        "In this project, the concept is to analyze statistically significant data on suicide rate. All in all, we see that the details show what we see in the newspapers, on television and so on, in our view many of the conclusions we reached were already predicted; just think of the tremendous number of teen suicides, never seen in the data.\n",
        "\n",
        "- The data illustrates that middle aged adults, between the ages of 30 through 60, have the highest suicide count. While elderly and adolescents have about half the amount as middle aged adults.\n",
        "- Suicide is one of the leading causes of death among all Canadian adults. Data show alarming differences in suicide for different sexes. It’s evident that males are more inclined to suicide, than females. In addition, Mental health is a major predictor for suicide.\n",
        "- Young people age between 15-29 are at the highest risk among all age groups.\n",
        "\n",
        "\n",
        "One of the limitations we faced was in the representation of data for certain continents/countries. We found that Africa and Oceania were serverely underrepresented and that affected the accuracy of our findings. "
      ],
      "id": "7c57e7f3"
    }
  ]
}